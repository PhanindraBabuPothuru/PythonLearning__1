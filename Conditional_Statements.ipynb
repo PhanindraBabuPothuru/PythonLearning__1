{
 "cells": [
  {
   "cell_type": "markdown",
   "id": "4035a931",
   "metadata": {},
   "source": [
    "Conditional Statements"
   ]
  },
  {
   "cell_type": "code",
   "execution_count": 5,
   "id": "874ef63d",
   "metadata": {},
   "outputs": [
    {
     "name": "stdout",
     "output_type": "stream",
     "text": [
      "Enter the Number : -1\n",
      "Number provided is less than 0. Number :  -1\n"
     ]
    }
   ],
   "source": [
    "num=int(input('Enter the Number : '))\n",
    "if num>0:\n",
    "    print('Number provided is greater than 0. Number : ',num)\n",
    "else:\n",
    "    print('Number provided is less than 0. Number : ',num)"
   ]
  },
  {
   "cell_type": "code",
   "execution_count": 7,
   "id": "19bb2839",
   "metadata": {},
   "outputs": [
    {
     "name": "stdout",
     "output_type": "stream",
     "text": [
      "Enter the Number : -1\n",
      "Done\n"
     ]
    }
   ],
   "source": [
    "num=int(input('Enter the Number : '))\n",
    "if num>0:\n",
    "    print('Number provided is greater than 0. Number : ',num)\n",
    "print('Done')"
   ]
  },
  {
   "cell_type": "code",
   "execution_count": 8,
   "id": "fbd8a93b",
   "metadata": {},
   "outputs": [
    {
     "name": "stdout",
     "output_type": "stream",
     "text": [
      "Enter the Number : 0\n",
      "Number Provided in input is 0. Number :  0\n"
     ]
    }
   ],
   "source": [
    "num=int(input('Enter the Number : '))\n",
    "if num>0:\n",
    "    print('Number provided is greater than 0. Number : ',num)\n",
    "else:\n",
    "    print('Number provided is less than 0. Number : ',num)"
   ]
  },
  {
   "cell_type": "code",
   "execution_count": 11,
   "id": "c48bcc58",
   "metadata": {},
   "outputs": [
    {
     "name": "stdout",
     "output_type": "stream",
     "text": [
      "Enter the number to be checked as even or odd : 9\n",
      "Given Number is Odd\n"
     ]
    }
   ],
   "source": [
    "num=int(input('Enter the number to be checked as even or odd : '))\n",
    "if num==0:\n",
    "    print('You have not provided any number')\n",
    "elif num%2==0:\n",
    "    print('Given Number is Even')\n",
    "else:\n",
    "    print('Given Number is Odd')"
   ]
  },
  {
   "cell_type": "code",
   "execution_count": null,
   "id": "97390d5f",
   "metadata": {},
   "outputs": [],
   "source": []
  }
 ],
 "metadata": {
  "kernelspec": {
   "display_name": "Python 3 (ipykernel)",
   "language": "python",
   "name": "python3"
  },
  "language_info": {
   "codemirror_mode": {
    "name": "ipython",
    "version": 3
   },
   "file_extension": ".py",
   "mimetype": "text/x-python",
   "name": "python",
   "nbconvert_exporter": "python",
   "pygments_lexer": "ipython3",
   "version": "3.10.9"
  }
 },
 "nbformat": 4,
 "nbformat_minor": 5
}
