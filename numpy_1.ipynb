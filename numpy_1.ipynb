{
 "cells": [
  {
   "cell_type": "code",
   "execution_count": 3,
   "id": "68748623",
   "metadata": {},
   "outputs": [],
   "source": [
    "import numpy as np"
   ]
  },
  {
   "cell_type": "code",
   "execution_count": 2,
   "id": "5d7c1475",
   "metadata": {},
   "outputs": [],
   "source": [
    "lst_1=[1,2,3,4,5]"
   ]
  },
  {
   "cell_type": "code",
   "execution_count": 20,
   "id": "6d6a4776",
   "metadata": {},
   "outputs": [],
   "source": [
    "arr1=np.array(lst_1)"
   ]
  },
  {
   "cell_type": "markdown",
   "id": "c0f28292",
   "metadata": {},
   "source": [
    "If we are giving the same type in the list then it will be correct -> arr2\n",
    "\n",
    "if we are giving a list with all datatypes it will be overridden with str type -> arr1"
   ]
  },
  {
   "cell_type": "code",
   "execution_count": 5,
   "id": "b5b8d2f5",
   "metadata": {},
   "outputs": [
    {
     "data": {
      "text/plain": [
       "array([[0., 0., 0., 0.],\n",
       "       [0., 0., 0., 0.],\n",
       "       [0., 0., 0., 0.]])"
      ]
     },
     "execution_count": 5,
     "metadata": {},
     "output_type": "execute_result"
    }
   ],
   "source": [
    "np.zeros((3,4))"
   ]
  },
  {
   "cell_type": "code",
   "execution_count": 7,
   "id": "a22c3595",
   "metadata": {},
   "outputs": [
    {
     "data": {
      "text/plain": [
       "array([[0.88869863, 0.94470067, 0.07468558],\n",
       "       [0.84213924, 0.17325621, 0.82882517]])"
      ]
     },
     "execution_count": 7,
     "metadata": {},
     "output_type": "execute_result"
    }
   ],
   "source": [
    "np.random.random((2,3))"
   ]
  },
  {
   "cell_type": "code",
   "execution_count": 8,
   "id": "160c9189",
   "metadata": {},
   "outputs": [],
   "source": [
    "lst_2=[1,1.0,'Phani']"
   ]
  },
  {
   "cell_type": "code",
   "execution_count": 9,
   "id": "68df9c47",
   "metadata": {},
   "outputs": [
    {
     "data": {
      "text/plain": [
       "[1, 1.0, 'Phani']"
      ]
     },
     "execution_count": 9,
     "metadata": {},
     "output_type": "execute_result"
    }
   ],
   "source": [
    "lst_2"
   ]
  },
  {
   "cell_type": "code",
   "execution_count": 15,
   "id": "90235feb",
   "metadata": {},
   "outputs": [],
   "source": [
    "arr2=np.array(lst_2)"
   ]
  },
  {
   "cell_type": "code",
   "execution_count": 16,
   "id": "ff6c3962",
   "metadata": {},
   "outputs": [
    {
     "data": {
      "text/plain": [
       "array(['1', '1.0', 'Phani'], dtype='<U32')"
      ]
     },
     "execution_count": 16,
     "metadata": {},
     "output_type": "execute_result"
    }
   ],
   "source": [
    "arr2"
   ]
  },
  {
   "cell_type": "code",
   "execution_count": 19,
   "id": "403ab3f5",
   "metadata": {},
   "outputs": [
    {
     "data": {
      "text/plain": [
       "numpy.str_"
      ]
     },
     "execution_count": 19,
     "metadata": {},
     "output_type": "execute_result"
    }
   ],
   "source": [
    "type(arr2[0])"
   ]
  },
  {
   "cell_type": "code",
   "execution_count": 22,
   "id": "9ebd8897",
   "metadata": {},
   "outputs": [
    {
     "data": {
      "text/plain": [
       "array([1, 2, 3, 4, 5])"
      ]
     },
     "execution_count": 22,
     "metadata": {},
     "output_type": "execute_result"
    }
   ],
   "source": [
    "arr1"
   ]
  },
  {
   "cell_type": "code",
   "execution_count": 23,
   "id": "17927129",
   "metadata": {},
   "outputs": [
    {
     "data": {
      "text/plain": [
       "numpy.int32"
      ]
     },
     "execution_count": 23,
     "metadata": {},
     "output_type": "execute_result"
    }
   ],
   "source": [
    "type(arr1[0])"
   ]
  },
  {
   "cell_type": "code",
   "execution_count": 25,
   "id": "bd9ea38b",
   "metadata": {},
   "outputs": [
    {
     "data": {
      "text/plain": [
       "array([[5, 5, 5],\n",
       "       [5, 5, 5],\n",
       "       [5, 5, 5]])"
      ]
     },
     "execution_count": 25,
     "metadata": {},
     "output_type": "execute_result"
    }
   ],
   "source": [
    "np.full((3,3),5)"
   ]
  },
  {
   "cell_type": "code",
   "execution_count": 28,
   "id": "36d8748f",
   "metadata": {},
   "outputs": [
    {
     "data": {
      "text/plain": [
       "array([10, 13, 16, 19, 22])"
      ]
     },
     "execution_count": 28,
     "metadata": {},
     "output_type": "execute_result"
    }
   ],
   "source": [
    "np.arange(10,25,3)"
   ]
  },
  {
   "cell_type": "code",
   "execution_count": 27,
   "id": "b1e3c7c9",
   "metadata": {},
   "outputs": [
    {
     "data": {
      "text/plain": [
       "array([10.  , 13.75, 17.5 , 21.25, 25.  ])"
      ]
     },
     "execution_count": 27,
     "metadata": {},
     "output_type": "execute_result"
    }
   ],
   "source": [
    "np.linspace(10,25,5)"
   ]
  },
  {
   "cell_type": "code",
   "execution_count": 29,
   "id": "17732e20",
   "metadata": {},
   "outputs": [
    {
     "data": {
      "text/plain": [
       "array([10, 11, 12, 13, 14, 15, 16, 17, 18, 19, 20, 21, 22, 23, 24])"
      ]
     },
     "execution_count": 29,
     "metadata": {},
     "output_type": "execute_result"
    }
   ],
   "source": [
    "np.arange(10,25)"
   ]
  },
  {
   "cell_type": "code",
   "execution_count": 30,
   "id": "9a6023bf",
   "metadata": {},
   "outputs": [
    {
     "data": {
      "text/plain": [
       "array([10.        , 10.30612245, 10.6122449 , 10.91836735, 11.2244898 ,\n",
       "       11.53061224, 11.83673469, 12.14285714, 12.44897959, 12.75510204,\n",
       "       13.06122449, 13.36734694, 13.67346939, 13.97959184, 14.28571429,\n",
       "       14.59183673, 14.89795918, 15.20408163, 15.51020408, 15.81632653,\n",
       "       16.12244898, 16.42857143, 16.73469388, 17.04081633, 17.34693878,\n",
       "       17.65306122, 17.95918367, 18.26530612, 18.57142857, 18.87755102,\n",
       "       19.18367347, 19.48979592, 19.79591837, 20.10204082, 20.40816327,\n",
       "       20.71428571, 21.02040816, 21.32653061, 21.63265306, 21.93877551,\n",
       "       22.24489796, 22.55102041, 22.85714286, 23.16326531, 23.46938776,\n",
       "       23.7755102 , 24.08163265, 24.3877551 , 24.69387755, 25.        ])"
      ]
     },
     "execution_count": 30,
     "metadata": {},
     "output_type": "execute_result"
    }
   ],
   "source": [
    "np.linspace(10,25)"
   ]
  },
  {
   "cell_type": "code",
   "execution_count": 34,
   "id": "2e15ee9c",
   "metadata": {},
   "outputs": [
    {
     "data": {
      "text/plain": [
       "array([1, 2, 3, 4, 5])"
      ]
     },
     "execution_count": 34,
     "metadata": {},
     "output_type": "execute_result"
    }
   ],
   "source": [
    "arr1"
   ]
  },
  {
   "cell_type": "code",
   "execution_count": 35,
   "id": "d5a167b1",
   "metadata": {},
   "outputs": [
    {
     "data": {
      "text/plain": [
       "(5,)"
      ]
     },
     "execution_count": 35,
     "metadata": {},
     "output_type": "execute_result"
    }
   ],
   "source": [
    "arr1.shape"
   ]
  },
  {
   "cell_type": "code",
   "execution_count": 36,
   "id": "5bc7cb97",
   "metadata": {},
   "outputs": [
    {
     "data": {
      "text/plain": [
       "array(['1', '1.0', 'Phani'], dtype='<U32')"
      ]
     },
     "execution_count": 36,
     "metadata": {},
     "output_type": "execute_result"
    }
   ],
   "source": [
    "arr2"
   ]
  },
  {
   "cell_type": "code",
   "execution_count": 37,
   "id": "f5f6c559",
   "metadata": {},
   "outputs": [
    {
     "data": {
      "text/plain": [
       "(3,)"
      ]
     },
     "execution_count": 37,
     "metadata": {},
     "output_type": "execute_result"
    }
   ],
   "source": [
    "arr2.shape"
   ]
  },
  {
   "cell_type": "code",
   "execution_count": 38,
   "id": "0d975e86",
   "metadata": {},
   "outputs": [],
   "source": [
    "a=np.array([[1,2,3],[1,2,3]])"
   ]
  },
  {
   "cell_type": "code",
   "execution_count": 39,
   "id": "1ab9dd10",
   "metadata": {},
   "outputs": [
    {
     "data": {
      "text/plain": [
       "array([[1, 2, 3],\n",
       "       [1, 2, 3]])"
      ]
     },
     "execution_count": 39,
     "metadata": {},
     "output_type": "execute_result"
    }
   ],
   "source": [
    "a"
   ]
  },
  {
   "cell_type": "code",
   "execution_count": 40,
   "id": "42749204",
   "metadata": {},
   "outputs": [
    {
     "data": {
      "text/plain": [
       "6"
      ]
     },
     "execution_count": 40,
     "metadata": {},
     "output_type": "execute_result"
    }
   ],
   "source": [
    "a.size"
   ]
  },
  {
   "cell_type": "code",
   "execution_count": 42,
   "id": "5b9ca869",
   "metadata": {},
   "outputs": [
    {
     "data": {
      "text/plain": [
       "1"
      ]
     },
     "execution_count": 42,
     "metadata": {},
     "output_type": "execute_result"
    }
   ],
   "source": [
    "arr1.ndim"
   ]
  },
  {
   "cell_type": "code",
   "execution_count": 43,
   "id": "81c2f188",
   "metadata": {},
   "outputs": [
    {
     "data": {
      "text/plain": [
       "1"
      ]
     },
     "execution_count": 43,
     "metadata": {},
     "output_type": "execute_result"
    }
   ],
   "source": [
    "arr2.ndim"
   ]
  },
  {
   "cell_type": "code",
   "execution_count": 44,
   "id": "0c73bcc6",
   "metadata": {},
   "outputs": [
    {
     "data": {
      "text/plain": [
       "2"
      ]
     },
     "execution_count": 44,
     "metadata": {},
     "output_type": "execute_result"
    }
   ],
   "source": [
    "a.ndim"
   ]
  },
  {
   "cell_type": "code",
   "execution_count": 52,
   "id": "ca534ab7",
   "metadata": {},
   "outputs": [],
   "source": [
    "ab=np.array([[[1,2,3],[4,5,6]],[[7,8,9],[10,11,12]]])"
   ]
  },
  {
   "cell_type": "code",
   "execution_count": 53,
   "id": "e30f44b0",
   "metadata": {},
   "outputs": [
    {
     "data": {
      "text/plain": [
       "3"
      ]
     },
     "execution_count": 53,
     "metadata": {},
     "output_type": "execute_result"
    }
   ],
   "source": [
    "ab.ndim"
   ]
  },
  {
   "cell_type": "code",
   "execution_count": 54,
   "id": "f51b3e3a",
   "metadata": {},
   "outputs": [
    {
     "data": {
      "text/plain": [
       "dtype('int32')"
      ]
     },
     "execution_count": 54,
     "metadata": {},
     "output_type": "execute_result"
    }
   ],
   "source": [
    "ab.dtype"
   ]
  },
  {
   "cell_type": "code",
   "execution_count": 55,
   "id": "2c8f5b9d",
   "metadata": {},
   "outputs": [
    {
     "data": {
      "text/plain": [
       "dtype('<U32')"
      ]
     },
     "execution_count": 55,
     "metadata": {},
     "output_type": "execute_result"
    }
   ],
   "source": [
    "arr2.dtype"
   ]
  },
  {
   "cell_type": "code",
   "execution_count": 58,
   "id": "3f14a983",
   "metadata": {},
   "outputs": [
    {
     "data": {
      "text/plain": [
       "array([[1, 2],\n",
       "       [3, 1],\n",
       "       [2, 3]])"
      ]
     },
     "execution_count": 58,
     "metadata": {},
     "output_type": "execute_result"
    }
   ],
   "source": [
    "a.reshape(3,2)"
   ]
  },
  {
   "cell_type": "code",
   "execution_count": 59,
   "id": "0c2419fa",
   "metadata": {},
   "outputs": [
    {
     "data": {
      "text/plain": [
       "15"
      ]
     },
     "execution_count": 59,
     "metadata": {},
     "output_type": "execute_result"
    }
   ],
   "source": [
    "np.sum(arr1)"
   ]
  },
  {
   "cell_type": "code",
   "execution_count": 60,
   "id": "f124e5e5",
   "metadata": {},
   "outputs": [
    {
     "data": {
      "text/plain": [
       "array([1, 2, 3, 4, 5])"
      ]
     },
     "execution_count": 60,
     "metadata": {},
     "output_type": "execute_result"
    }
   ],
   "source": [
    "arr1"
   ]
  },
  {
   "cell_type": "code",
   "execution_count": 65,
   "id": "4a86391f",
   "metadata": {},
   "outputs": [
    {
     "data": {
      "text/plain": [
       "array([0, 1, 2, 3, 4])"
      ]
     },
     "execution_count": 65,
     "metadata": {},
     "output_type": "execute_result"
    }
   ],
   "source": [
    "np.subtract(arr1,1)"
   ]
  },
  {
   "cell_type": "code",
   "execution_count": 66,
   "id": "4d5fa743",
   "metadata": {},
   "outputs": [
    {
     "data": {
      "text/plain": [
       "array([0.1, 0.2, 0.3, 0.4, 0.5])"
      ]
     },
     "execution_count": 66,
     "metadata": {},
     "output_type": "execute_result"
    }
   ],
   "source": [
    "np.divide(arr1,10)"
   ]
  },
  {
   "cell_type": "code",
   "execution_count": 67,
   "id": "018f0482",
   "metadata": {},
   "outputs": [
    {
     "data": {
      "text/plain": [
       "array([10, 20, 30, 40, 50])"
      ]
     },
     "execution_count": 67,
     "metadata": {},
     "output_type": "execute_result"
    }
   ],
   "source": [
    "np.multiply(arr1,10)"
   ]
  },
  {
   "cell_type": "code",
   "execution_count": 68,
   "id": "0ee09f95",
   "metadata": {},
   "outputs": [
    {
     "data": {
      "text/plain": [
       "array([  2.71828183,   7.3890561 ,  20.08553692,  54.59815003,\n",
       "       148.4131591 ])"
      ]
     },
     "execution_count": 68,
     "metadata": {},
     "output_type": "execute_result"
    }
   ],
   "source": [
    "np.exp(arr1)"
   ]
  },
  {
   "cell_type": "code",
   "execution_count": 69,
   "id": "040f3f20",
   "metadata": {},
   "outputs": [
    {
     "data": {
      "text/plain": [
       "array([1.        , 1.41421356, 1.73205081, 2.        , 2.23606798])"
      ]
     },
     "execution_count": 69,
     "metadata": {},
     "output_type": "execute_result"
    }
   ],
   "source": [
    "np.sqrt(arr1)"
   ]
  },
  {
   "cell_type": "code",
   "execution_count": 70,
   "id": "3ae070ae",
   "metadata": {},
   "outputs": [
    {
     "data": {
      "text/plain": [
       "array([ 0.84147098,  0.90929743,  0.14112001, -0.7568025 , -0.95892427])"
      ]
     },
     "execution_count": 70,
     "metadata": {},
     "output_type": "execute_result"
    }
   ],
   "source": [
    "np.sin(arr1)"
   ]
  },
  {
   "cell_type": "code",
   "execution_count": 71,
   "id": "ab31196a",
   "metadata": {},
   "outputs": [
    {
     "data": {
      "text/plain": [
       "array([ 0.54030231, -0.41614684, -0.9899925 , -0.65364362,  0.28366219])"
      ]
     },
     "execution_count": 71,
     "metadata": {},
     "output_type": "execute_result"
    }
   ],
   "source": [
    "np.cos(arr1)"
   ]
  },
  {
   "cell_type": "code",
   "execution_count": 73,
   "id": "0cea8614",
   "metadata": {},
   "outputs": [
    {
     "data": {
      "text/plain": [
       "array([0.        , 0.69314718, 1.09861229, 1.38629436, 1.60943791])"
      ]
     },
     "execution_count": 73,
     "metadata": {},
     "output_type": "execute_result"
    }
   ],
   "source": [
    "np.log(arr1)"
   ]
  },
  {
   "cell_type": "code",
   "execution_count": 74,
   "id": "6d3af5cf",
   "metadata": {},
   "outputs": [
    {
     "data": {
      "text/plain": [
       "12"
      ]
     },
     "execution_count": 74,
     "metadata": {},
     "output_type": "execute_result"
    }
   ],
   "source": [
    "np.sum(a)"
   ]
  },
  {
   "cell_type": "code",
   "execution_count": 75,
   "id": "79fb948e",
   "metadata": {},
   "outputs": [
    {
     "data": {
      "text/plain": [
       "array([[1, 2, 3],\n",
       "       [1, 2, 3]])"
      ]
     },
     "execution_count": 75,
     "metadata": {},
     "output_type": "execute_result"
    }
   ],
   "source": [
    "a"
   ]
  },
  {
   "cell_type": "code",
   "execution_count": 83,
   "id": "1801021d",
   "metadata": {},
   "outputs": [
    {
     "data": {
      "text/plain": [
       "array([30, 70])"
      ]
     },
     "execution_count": 83,
     "metadata": {},
     "output_type": "execute_result"
    }
   ],
   "source": [
    "np.sum([[10,20],[30,40]],axis=1)"
   ]
  },
  {
   "cell_type": "code",
   "execution_count": 82,
   "id": "11293c08",
   "metadata": {},
   "outputs": [
    {
     "data": {
      "text/plain": [
       "array([40, 60])"
      ]
     },
     "execution_count": 82,
     "metadata": {},
     "output_type": "execute_result"
    }
   ],
   "source": [
    "np.sum([[10,20],[30,40]],axis=0)"
   ]
  },
  {
   "cell_type": "code",
   "execution_count": 7,
   "id": "00f063ff",
   "metadata": {},
   "outputs": [],
   "source": [
    "a1=[10,20]\n",
    "a2=[20,10]\n",
    "a3=[10,20]"
   ]
  },
  {
   "cell_type": "code",
   "execution_count": 8,
   "id": "2972e037",
   "metadata": {},
   "outputs": [
    {
     "data": {
      "text/plain": [
       "array([False, False])"
      ]
     },
     "execution_count": 8,
     "metadata": {},
     "output_type": "execute_result"
    }
   ],
   "source": [
    "np.equal(a1,a2)"
   ]
  },
  {
   "cell_type": "code",
   "execution_count": 9,
   "id": "89d33a5c",
   "metadata": {},
   "outputs": [
    {
     "data": {
      "text/plain": [
       "array([ True,  True])"
      ]
     },
     "execution_count": 9,
     "metadata": {},
     "output_type": "execute_result"
    }
   ],
   "source": [
    "np.equal(a1,a3)"
   ]
  },
  {
   "cell_type": "code",
   "execution_count": 10,
   "id": "a9247358",
   "metadata": {},
   "outputs": [
    {
     "data": {
      "text/plain": [
       "False"
      ]
     },
     "execution_count": 10,
     "metadata": {},
     "output_type": "execute_result"
    }
   ],
   "source": [
    "np.array_equal(a1,a2)"
   ]
  },
  {
   "cell_type": "code",
   "execution_count": 11,
   "id": "657327c4",
   "metadata": {},
   "outputs": [
    {
     "data": {
      "text/plain": [
       "True"
      ]
     },
     "execution_count": 11,
     "metadata": {},
     "output_type": "execute_result"
    }
   ],
   "source": [
    "np.array_equal(a1,a3)"
   ]
  },
  {
   "cell_type": "code",
   "execution_count": 12,
   "id": "fd457a00",
   "metadata": {},
   "outputs": [
    {
     "name": "stdout",
     "output_type": "stream",
     "text": [
      "10\n",
      "20\n",
      "15.0\n",
      "15.0\n",
      "25.0\n",
      "5.0\n"
     ]
    }
   ],
   "source": [
    "print(np.min(a1))\n",
    "print(np.max(a1))\n",
    "print(np.mean(a1))\n",
    "print(np.median(a1))\n",
    "print(np.var(a1))\n",
    "print(np.std(a1))"
   ]
  },
  {
   "cell_type": "code",
   "execution_count": 13,
   "id": "d9d42cb5",
   "metadata": {},
   "outputs": [],
   "source": [
    "ar=np.array([[1,2,3],[4,5,6],[7,8,9]])"
   ]
  },
  {
   "cell_type": "code",
   "execution_count": 14,
   "id": "f47b1493",
   "metadata": {},
   "outputs": [
    {
     "data": {
      "text/plain": [
       "array([[1, 2, 3],\n",
       "       [4, 5, 6],\n",
       "       [7, 8, 9]])"
      ]
     },
     "execution_count": 14,
     "metadata": {},
     "output_type": "execute_result"
    }
   ],
   "source": [
    "ar"
   ]
  },
  {
   "cell_type": "code",
   "execution_count": 15,
   "id": "3a73ee4f",
   "metadata": {},
   "outputs": [
    {
     "data": {
      "text/plain": [
       "array([[5, 6],\n",
       "       [8, 9]])"
      ]
     },
     "execution_count": 15,
     "metadata": {},
     "output_type": "execute_result"
    }
   ],
   "source": [
    "ar[1:3,1:3]"
   ]
  },
  {
   "cell_type": "code",
   "execution_count": 16,
   "id": "5a035c00",
   "metadata": {},
   "outputs": [
    {
     "data": {
      "text/plain": [
       "array([[1],\n",
       "       [4]])"
      ]
     },
     "execution_count": 16,
     "metadata": {},
     "output_type": "execute_result"
    }
   ],
   "source": [
    "ar[0:2,0:1]"
   ]
  },
  {
   "cell_type": "code",
   "execution_count": 17,
   "id": "53c37b46",
   "metadata": {},
   "outputs": [
    {
     "data": {
      "text/plain": [
       "array([[1]])"
      ]
     },
     "execution_count": 17,
     "metadata": {},
     "output_type": "execute_result"
    }
   ],
   "source": [
    "ar[0:1,0:1]"
   ]
  },
  {
   "cell_type": "code",
   "execution_count": 18,
   "id": "65404fbd",
   "metadata": {},
   "outputs": [],
   "source": [
    "str1='Python'"
   ]
  },
  {
   "cell_type": "code",
   "execution_count": 20,
   "id": "faa31cc4",
   "metadata": {},
   "outputs": [
    {
     "data": {
      "text/plain": [
       "'yt'"
      ]
     },
     "execution_count": 20,
     "metadata": {},
     "output_type": "execute_result"
    }
   ],
   "source": [
    "str1[1:3]"
   ]
  },
  {
   "cell_type": "code",
   "execution_count": 26,
   "id": "0a6f325d",
   "metadata": {},
   "outputs": [],
   "source": [
    "abc=[10,20,30]\n",
    "de=[40,50,60]"
   ]
  },
  {
   "cell_type": "code",
   "execution_count": 28,
   "id": "0349936f",
   "metadata": {},
   "outputs": [
    {
     "name": "stdout",
     "output_type": "stream",
     "text": [
      "[10, 20, 30]\n"
     ]
    },
    {
     "data": {
      "text/plain": [
       "[40, 50, 60]"
      ]
     },
     "execution_count": 28,
     "metadata": {},
     "output_type": "execute_result"
    }
   ],
   "source": [
    "print(abc)\n",
    "de"
   ]
  },
  {
   "cell_type": "code",
   "execution_count": 30,
   "id": "80e3f733",
   "metadata": {},
   "outputs": [
    {
     "data": {
      "text/plain": [
       "array([10, 20, 30, 40, 50, 60])"
      ]
     },
     "execution_count": 30,
     "metadata": {},
     "output_type": "execute_result"
    }
   ],
   "source": [
    "np.concatenate((abc,de),axis=0)"
   ]
  },
  {
   "cell_type": "code",
   "execution_count": 32,
   "id": "290c9b12",
   "metadata": {},
   "outputs": [
    {
     "data": {
      "text/plain": [
       "array([[10, 20, 30],\n",
       "       [40, 50, 60]])"
      ]
     },
     "execution_count": 32,
     "metadata": {},
     "output_type": "execute_result"
    }
   ],
   "source": [
    "np.vstack((abc,de))"
   ]
  },
  {
   "cell_type": "code",
   "execution_count": 33,
   "id": "acf8b5e4",
   "metadata": {},
   "outputs": [
    {
     "data": {
      "text/plain": [
       "array([10, 20, 30, 40, 50, 60])"
      ]
     },
     "execution_count": 33,
     "metadata": {},
     "output_type": "execute_result"
    }
   ],
   "source": [
    "np.hstack((abc,de))"
   ]
  },
  {
   "cell_type": "code",
   "execution_count": 34,
   "id": "57882389",
   "metadata": {},
   "outputs": [
    {
     "data": {
      "text/plain": [
       "array([[10, 40],\n",
       "       [20, 50],\n",
       "       [30, 60]])"
      ]
     },
     "execution_count": 34,
     "metadata": {},
     "output_type": "execute_result"
    }
   ],
   "source": [
    "np.column_stack((abc,de))"
   ]
  },
  {
   "cell_type": "code",
   "execution_count": 41,
   "id": "db6b7f13",
   "metadata": {},
   "outputs": [],
   "source": [
    "aaa=np.arange(16).reshape(8,2)"
   ]
  },
  {
   "cell_type": "code",
   "execution_count": 43,
   "id": "6eca8541",
   "metadata": {},
   "outputs": [
    {
     "data": {
      "text/plain": [
       "[array([[ 0],\n",
       "        [ 2],\n",
       "        [ 4],\n",
       "        [ 6],\n",
       "        [ 8],\n",
       "        [10],\n",
       "        [12],\n",
       "        [14]]),\n",
       " array([[ 1],\n",
       "        [ 3],\n",
       "        [ 5],\n",
       "        [ 7],\n",
       "        [ 9],\n",
       "        [11],\n",
       "        [13],\n",
       "        [15]])]"
      ]
     },
     "execution_count": 43,
     "metadata": {},
     "output_type": "execute_result"
    }
   ],
   "source": [
    "np.hsplit(aaa,2)"
   ]
  },
  {
   "cell_type": "code",
   "execution_count": null,
   "id": "41cfc513",
   "metadata": {},
   "outputs": [],
   "source": []
  }
 ],
 "metadata": {
  "kernelspec": {
   "display_name": "Python 3 (ipykernel)",
   "language": "python",
   "name": "python3"
  },
  "language_info": {
   "codemirror_mode": {
    "name": "ipython",
    "version": 3
   },
   "file_extension": ".py",
   "mimetype": "text/x-python",
   "name": "python",
   "nbconvert_exporter": "python",
   "pygments_lexer": "ipython3",
   "version": "3.10.9"
  }
 },
 "nbformat": 4,
 "nbformat_minor": 5
}
