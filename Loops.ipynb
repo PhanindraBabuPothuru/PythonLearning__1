{
 "cells": [
  {
   "cell_type": "markdown",
   "id": "ed301c8c",
   "metadata": {},
   "source": [
    "Loops"
   ]
  },
  {
   "cell_type": "code",
   "execution_count": null,
   "id": "46a1960e",
   "metadata": {},
   "outputs": [],
   "source": [
    "cricket=['sachin','dhoni','yuvraj','zaheer','kohli']"
   ]
  },
  {
   "cell_type": "code",
   "execution_count": 3,
   "id": "725fa1af",
   "metadata": {},
   "outputs": [
    {
     "name": "stdout",
     "output_type": "stream",
     "text": [
      "sachin\n",
      "dhoni\n",
      "yuvraj\n",
      "zaheer\n",
      "kohli\n"
     ]
    }
   ],
   "source": [
    "for i in range(len(cricket)):\n",
    "    print(cricket[i])"
   ]
  },
  {
   "cell_type": "code",
   "execution_count": 4,
   "id": "62ee70a9",
   "metadata": {},
   "outputs": [
    {
     "name": "stdout",
     "output_type": "stream",
     "text": [
      "sachin\n",
      "dhoni\n",
      "yuvraj\n",
      "zaheer\n",
      "kohli\n"
     ]
    }
   ],
   "source": [
    "for i in cricket:\n",
    "    print(i)"
   ]
  },
  {
   "cell_type": "code",
   "execution_count": 6,
   "id": "f932291e",
   "metadata": {},
   "outputs": [
    {
     "data": {
      "text/plain": [
       "True"
      ]
     },
     "execution_count": 6,
     "metadata": {},
     "output_type": "execute_result"
    }
   ],
   "source": [
    "'p' in 'python'"
   ]
  },
  {
   "cell_type": "code",
   "execution_count": 7,
   "id": "9c4701a3",
   "metadata": {},
   "outputs": [
    {
     "name": "stdout",
     "output_type": "stream",
     "text": [
      "0 0\n",
      "0 1\n",
      "0 2\n",
      "1 0\n",
      "1 1\n",
      "1 2\n",
      "2 0\n",
      "2 1\n",
      "2 2\n"
     ]
    }
   ],
   "source": [
    "for i in range(3):\n",
    "    for j in range(3):\n",
    "        print(i,j)"
   ]
  },
  {
   "cell_type": "code",
   "execution_count": 9,
   "id": "f513ab4e",
   "metadata": {},
   "outputs": [
    {
     "name": "stdout",
     "output_type": "stream",
     "text": [
      "0@1@2@"
     ]
    }
   ],
   "source": [
    "for i in range(3):\n",
    "    print(i,end='@')"
   ]
  },
  {
   "cell_type": "code",
   "execution_count": 14,
   "id": "c8c2b7b6",
   "metadata": {},
   "outputs": [
    {
     "name": "stdout",
     "output_type": "stream",
     "text": [
      "\n",
      "*\n",
      "**\n",
      "***\n",
      "****\n"
     ]
    }
   ],
   "source": [
    "for i in range(5):\n",
    "    print(i*'*',end='\\n')"
   ]
  },
  {
   "cell_type": "code",
   "execution_count": 19,
   "id": "5d8e469e",
   "metadata": {},
   "outputs": [
    {
     "name": "stdout",
     "output_type": "stream",
     "text": [
      "*\n",
      "\n",
      "**\n",
      "\n",
      "***\n",
      "\n",
      "****\n",
      "\n",
      "*****\n",
      "\n"
     ]
    }
   ],
   "source": [
    "for i in range(5):\n",
    "    for j in range(i+1):\n",
    "        print('*',end='')\n",
    "    print('\\n')"
   ]
  },
  {
   "cell_type": "markdown",
   "id": "2e767d8d",
   "metadata": {},
   "source": [
    "While Loop"
   ]
  },
  {
   "cell_type": "code",
   "execution_count": 24,
   "id": "95c48c6c",
   "metadata": {},
   "outputs": [
    {
     "name": "stdout",
     "output_type": "stream",
     "text": [
      "The value of sum is  55\n"
     ]
    }
   ],
   "source": [
    "n=10\n",
    "i=1\n",
    "sum=0\n",
    "while i<=n:\n",
    "    sum+=i\n",
    "    i+=1\n",
    "print('The value of sum is ',sum)"
   ]
  },
  {
   "cell_type": "code",
   "execution_count": 30,
   "id": "ddd6fc94",
   "metadata": {},
   "outputs": [
    {
     "name": "stdout",
     "output_type": "stream",
     "text": [
      "10 9 8 7 6 5 4 3 2 1 "
     ]
    }
   ],
   "source": [
    "A=[1,2,3,4,5,6,7,8,9,10]\n",
    "n=len(A)-1\n",
    "while n>=0:\n",
    "    print(A[n],end=' ')\n",
    "    n=n-1"
   ]
  },
  {
   "cell_type": "markdown",
   "id": "2fc8bb23",
   "metadata": {},
   "source": [
    "Functions"
   ]
  },
  {
   "cell_type": "code",
   "execution_count": 33,
   "id": "f334fd42",
   "metadata": {},
   "outputs": [],
   "source": [
    "def check_Number(num):\n",
    "    if num>=0:\n",
    "        if num==0:\n",
    "            print('Number is 0')\n",
    "        else:\n",
    "            print('Number is positive')\n",
    "    else:\n",
    "        print('Number is negative')"
   ]
  },
  {
   "cell_type": "code",
   "execution_count": 34,
   "id": "0473c847",
   "metadata": {},
   "outputs": [
    {
     "name": "stdout",
     "output_type": "stream",
     "text": [
      "Number is negative\n"
     ]
    }
   ],
   "source": [
    "check_Number(-1)"
   ]
  },
  {
   "cell_type": "code",
   "execution_count": 35,
   "id": "5a333196",
   "metadata": {},
   "outputs": [
    {
     "name": "stdout",
     "output_type": "stream",
     "text": [
      "Number is positive\n"
     ]
    }
   ],
   "source": [
    "check_Number(2)"
   ]
  },
  {
   "cell_type": "code",
   "execution_count": 36,
   "id": "20d43d00",
   "metadata": {},
   "outputs": [
    {
     "name": "stdout",
     "output_type": "stream",
     "text": [
      "Number is 0\n"
     ]
    }
   ],
   "source": [
    "check_Number(0)"
   ]
  },
  {
   "cell_type": "code",
   "execution_count": 37,
   "id": "53ea67ac",
   "metadata": {},
   "outputs": [],
   "source": [
    "def mul(num1,num2):\n",
    "    return num1*num2"
   ]
  },
  {
   "cell_type": "code",
   "execution_count": 38,
   "id": "1cdd8d4b",
   "metadata": {},
   "outputs": [
    {
     "name": "stdout",
     "output_type": "stream",
     "text": [
      "6\n"
     ]
    }
   ],
   "source": [
    "print(mul(2,3))"
   ]
  },
  {
   "cell_type": "code",
   "execution_count": null,
   "id": "16402031",
   "metadata": {},
   "outputs": [],
   "source": []
  }
 ],
 "metadata": {
  "kernelspec": {
   "display_name": "Python 3 (ipykernel)",
   "language": "python",
   "name": "python3"
  },
  "language_info": {
   "codemirror_mode": {
    "name": "ipython",
    "version": 3
   },
   "file_extension": ".py",
   "mimetype": "text/x-python",
   "name": "python",
   "nbconvert_exporter": "python",
   "pygments_lexer": "ipython3",
   "version": "3.10.9"
  }
 },
 "nbformat": 4,
 "nbformat_minor": 5
}
