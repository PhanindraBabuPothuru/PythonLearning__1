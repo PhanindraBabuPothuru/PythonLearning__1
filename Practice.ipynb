{
 "cells": [
  {
   "cell_type": "code",
   "execution_count": 1,
   "id": "17ff6cee",
   "metadata": {},
   "outputs": [],
   "source": [
    "import os"
   ]
  },
  {
   "cell_type": "code",
   "execution_count": 2,
   "id": "d6c89ded",
   "metadata": {},
   "outputs": [
    {
     "data": {
      "text/plain": [
       "'C:\\\\Users\\\\phani'"
      ]
     },
     "execution_count": 2,
     "metadata": {},
     "output_type": "execute_result"
    }
   ],
   "source": [
    "os.getcwd()"
   ]
  },
  {
   "cell_type": "code",
   "execution_count": 3,
   "id": "16c701d5",
   "metadata": {},
   "outputs": [],
   "source": [
    "import module"
   ]
  },
  {
   "cell_type": "code",
   "execution_count": 4,
   "id": "dce3f82c",
   "metadata": {},
   "outputs": [
    {
     "data": {
      "text/plain": [
       "5"
      ]
     },
     "execution_count": 4,
     "metadata": {},
     "output_type": "execute_result"
    }
   ],
   "source": [
    "module.addition(2,3)"
   ]
  },
  {
   "cell_type": "code",
   "execution_count": 8,
   "id": "aebd9fe0",
   "metadata": {},
   "outputs": [
    {
     "data": {
      "text/plain": [
       "5"
      ]
     },
     "execution_count": 8,
     "metadata": {},
     "output_type": "execute_result"
    }
   ],
   "source": [
    "from module import addition\n",
    "addition(2,3)"
   ]
  },
  {
   "cell_type": "code",
   "execution_count": 13,
   "id": "cff6ed56",
   "metadata": {},
   "outputs": [
    {
     "data": {
      "text/plain": [
       "1"
      ]
     },
     "execution_count": 13,
     "metadata": {},
     "output_type": "execute_result"
    }
   ],
   "source": [
    "from module import subtraction\n",
    "subtraction(3,2)"
   ]
  },
  {
   "cell_type": "code",
   "execution_count": 17,
   "id": "723c2e85",
   "metadata": {},
   "outputs": [
    {
     "name": "stdout",
     "output_type": "stream",
     "text": [
      "6\n",
      "2.0\n"
     ]
    }
   ],
   "source": [
    "from module import multiplication,division\n",
    "print(multiplication(3,2))\n",
    "print(division(4,2))"
   ]
  },
  {
   "cell_type": "code",
   "execution_count": 18,
   "id": "5ab8702f",
   "metadata": {},
   "outputs": [],
   "source": [
    "def num_Greater_Check(n1,n2):\n",
    "    if n1>n2:\n",
    "        print('n1 is greater')\n",
    "    elif n1==n2:\n",
    "        print('n1 and n2 are equal')\n",
    "    else:\n",
    "        print('n2 is greater than n1')"
   ]
  },
  {
   "cell_type": "code",
   "execution_count": 19,
   "id": "a3cfc981",
   "metadata": {},
   "outputs": [
    {
     "name": "stdout",
     "output_type": "stream",
     "text": [
      "n1 is greater\n"
     ]
    }
   ],
   "source": [
    "num_Greater_Check(3,2)"
   ]
  },
  {
   "cell_type": "code",
   "execution_count": 25,
   "id": "720dca90",
   "metadata": {},
   "outputs": [],
   "source": [
    "def armstrong_Check(n3):\n",
    "    pow=len(str(n3))\n",
    "    sum=0\n",
    "    for i in str(n3):\n",
    "        digit=int(i)\n",
    "        sum+=digit**pow\n",
    "    if n3==sum:\n",
    "        return 'Armstrong'\n",
    "    else:\n",
    "        return 'Not Armstrong'\n",
    "        "
   ]
  },
  {
   "cell_type": "code",
   "execution_count": 27,
   "id": "9320a4e9",
   "metadata": {},
   "outputs": [
    {
     "data": {
      "text/plain": [
       "'Not Armstrong'"
      ]
     },
     "execution_count": 27,
     "metadata": {},
     "output_type": "execute_result"
    }
   ],
   "source": [
    "armstrong_Check(154)"
   ]
  },
  {
   "cell_type": "code",
   "execution_count": 8,
   "id": "26f57336",
   "metadata": {},
   "outputs": [],
   "source": [
    "def primeNumberCheck(n4):\n",
    "    if n4<=1:\n",
    "        return False\n",
    "    for i in range(2,int(n4*0.5)+1):\n",
    "        if n4%i==0:\n",
    "            return False\n",
    "        else:\n",
    "            return True\n",
    "        "
   ]
  },
  {
   "cell_type": "code",
   "execution_count": 9,
   "id": "c222263d",
   "metadata": {},
   "outputs": [
    {
     "data": {
      "text/plain": [
       "False"
      ]
     },
     "execution_count": 9,
     "metadata": {},
     "output_type": "execute_result"
    }
   ],
   "source": [
    "primeNumberCheck(14)"
   ]
  },
  {
   "cell_type": "code",
   "execution_count": 18,
   "id": "5b1191ad",
   "metadata": {},
   "outputs": [],
   "source": [
    "def caluclator(num1,num2,operation):\n",
    "    if operation=='+':\n",
    "        return num1+num2\n",
    "    elif operation=='-':\n",
    "        return num1-num2\n",
    "    elif operation=='*':\n",
    "        return num1*num2\n",
    "    elif operation=='/':\n",
    "        return num1/num2\n",
    "    elif operation=='%':\n",
    "        return num1%num2\n",
    "    else:\n",
    "        return 'Invalid Input'"
   ]
  },
  {
   "cell_type": "code",
   "execution_count": 21,
   "id": "00858795",
   "metadata": {},
   "outputs": [
    {
     "name": "stdout",
     "output_type": "stream",
     "text": [
      "Enter the 1st Number : 30\n",
      "Enter the 2nd Number : 10\n",
      "Enter the Operation You need : *\n"
     ]
    },
    {
     "data": {
      "text/plain": [
       "300"
      ]
     },
     "execution_count": 21,
     "metadata": {},
     "output_type": "execute_result"
    }
   ],
   "source": [
    "Num1=int(input('Enter the 1st Number : '))\n",
    "Num2=int(input('Enter the 2nd Number : '))\n",
    "ope=input('Enter the Operation You need : ')\n",
    "caluclator(Num1,Num2,ope)"
   ]
  },
  {
   "cell_type": "code",
   "execution_count": 22,
   "id": "5910b12d",
   "metadata": {},
   "outputs": [
    {
     "name": "stdout",
     "output_type": "stream",
     "text": [
      "0\n",
      "1\n",
      "1\n",
      "2\n",
      "3\n",
      "5\n",
      "8\n",
      "13\n",
      "21\n",
      "34\n"
     ]
    }
   ],
   "source": [
    "def fib(n):\n",
    "    a=0\n",
    "    b=1\n",
    "    \n",
    "    if n==1:\n",
    "        print(a)\n",
    "    else:\n",
    "        print(a)\n",
    "        print(b)\n",
    "        for i in range(2,n):\n",
    "            c=a+b\n",
    "            a=b\n",
    "            b=c\n",
    "            print(c)\n",
    "fib(10)"
   ]
  },
  {
   "cell_type": "code",
   "execution_count": 23,
   "id": "3a0bf6e6",
   "metadata": {},
   "outputs": [],
   "source": [
    "myFamily={'Parents':{'Father':'Rama Naidu','Mother':'Sujatha'},'Children':{'Son':'Phani'}}"
   ]
  },
  {
   "cell_type": "code",
   "execution_count": 26,
   "id": "2b1afb3f",
   "metadata": {},
   "outputs": [
    {
     "data": {
      "text/plain": [
       "{'Father': 'Rama Naidu', 'Mother': 'Sujatha'}"
      ]
     },
     "execution_count": 26,
     "metadata": {},
     "output_type": "execute_result"
    }
   ],
   "source": [
    "myFamily['Parents']"
   ]
  },
  {
   "cell_type": "code",
   "execution_count": 28,
   "id": "bedc1f79",
   "metadata": {},
   "outputs": [],
   "source": [
    "set1={'a','b','c','d','e','e'}\n",
    "set2={'c','e','g','i','l','m'}"
   ]
  },
  {
   "cell_type": "code",
   "execution_count": 29,
   "id": "7f5e3f45",
   "metadata": {},
   "outputs": [
    {
     "data": {
      "text/plain": [
       "{'a', 'b', 'c', 'd', 'e', 'g', 'i', 'l', 'm'}"
      ]
     },
     "execution_count": 29,
     "metadata": {},
     "output_type": "execute_result"
    }
   ],
   "source": [
    "set1.union(set2)"
   ]
  },
  {
   "cell_type": "code",
   "execution_count": 30,
   "id": "c00456c9",
   "metadata": {},
   "outputs": [
    {
     "data": {
      "text/plain": [
       "{'c', 'e'}"
      ]
     },
     "execution_count": 30,
     "metadata": {},
     "output_type": "execute_result"
    }
   ],
   "source": [
    "set1.intersection(set2)"
   ]
  },
  {
   "cell_type": "code",
   "execution_count": 31,
   "id": "486587f8",
   "metadata": {},
   "outputs": [],
   "source": [
    "sports={'Cricket':('Sachin','Dhoni','Kohli'),'Hockey':('Sunil Chetrui')}"
   ]
  },
  {
   "cell_type": "code",
   "execution_count": 33,
   "id": "21ff62dd",
   "metadata": {},
   "outputs": [
    {
     "data": {
      "text/plain": [
       "('Sachin', 'Dhoni', 'Kohli')"
      ]
     },
     "execution_count": 33,
     "metadata": {},
     "output_type": "execute_result"
    }
   ],
   "source": [
    "sports['Cricket']"
   ]
  },
  {
   "cell_type": "code",
   "execution_count": 34,
   "id": "356cfd32",
   "metadata": {},
   "outputs": [],
   "source": [
    "dict1={'Name':'Phani','Age':27}"
   ]
  },
  {
   "cell_type": "code",
   "execution_count": 35,
   "id": "28fd5b85",
   "metadata": {},
   "outputs": [],
   "source": [
    "tup=(dict1.items())"
   ]
  },
  {
   "cell_type": "code",
   "execution_count": 36,
   "id": "4133c262",
   "metadata": {},
   "outputs": [
    {
     "data": {
      "text/plain": [
       "dict_items([('Name', 'Phani'), ('Age', 27)])"
      ]
     },
     "execution_count": 36,
     "metadata": {},
     "output_type": "execute_result"
    }
   ],
   "source": [
    "tup"
   ]
  },
  {
   "cell_type": "code",
   "execution_count": 52,
   "id": "5e88859f",
   "metadata": {},
   "outputs": [],
   "source": [
    "list1=[]\n",
    "for i in range(0,100,2):\n",
    "    list1.append(i)"
   ]
  },
  {
   "cell_type": "code",
   "execution_count": 53,
   "id": "569ef151",
   "metadata": {},
   "outputs": [
    {
     "data": {
      "text/plain": [
       "50"
      ]
     },
     "execution_count": 53,
     "metadata": {},
     "output_type": "execute_result"
    }
   ],
   "source": [
    "len(list1)"
   ]
  },
  {
   "cell_type": "code",
   "execution_count": 54,
   "id": "0cf42cf9",
   "metadata": {},
   "outputs": [
    {
     "data": {
      "text/plain": [
       "[98,\n",
       " 96,\n",
       " 94,\n",
       " 92,\n",
       " 90,\n",
       " 88,\n",
       " 86,\n",
       " 84,\n",
       " 82,\n",
       " 80,\n",
       " 78,\n",
       " 76,\n",
       " 74,\n",
       " 72,\n",
       " 70,\n",
       " 68,\n",
       " 66,\n",
       " 64,\n",
       " 62,\n",
       " 60,\n",
       " 58,\n",
       " 56,\n",
       " 54,\n",
       " 52,\n",
       " 50,\n",
       " 48,\n",
       " 46,\n",
       " 44,\n",
       " 42,\n",
       " 40,\n",
       " 38,\n",
       " 36,\n",
       " 34,\n",
       " 32,\n",
       " 30,\n",
       " 28,\n",
       " 26,\n",
       " 24,\n",
       " 22,\n",
       " 20,\n",
       " 18,\n",
       " 16,\n",
       " 14,\n",
       " 12,\n",
       " 10,\n",
       " 8,\n",
       " 6,\n",
       " 4,\n",
       " 2,\n",
       " 0]"
      ]
     },
     "execution_count": 54,
     "metadata": {},
     "output_type": "execute_result"
    }
   ],
   "source": [
    "list1.reverse()\n",
    "list1"
   ]
  },
  {
   "cell_type": "code",
   "execution_count": 55,
   "id": "7aac794c",
   "metadata": {},
   "outputs": [
    {
     "data": {
      "text/plain": [
       "[0,\n",
       " 2,\n",
       " 4,\n",
       " 6,\n",
       " 8,\n",
       " 10,\n",
       " 12,\n",
       " 14,\n",
       " 16,\n",
       " 18,\n",
       " 20,\n",
       " 22,\n",
       " 24,\n",
       " 26,\n",
       " 28,\n",
       " 30,\n",
       " 32,\n",
       " 34,\n",
       " 36,\n",
       " 38,\n",
       " 40,\n",
       " 42,\n",
       " 44,\n",
       " 46,\n",
       " 48,\n",
       " 50,\n",
       " 52,\n",
       " 54,\n",
       " 56,\n",
       " 58,\n",
       " 60,\n",
       " 62,\n",
       " 64,\n",
       " 66,\n",
       " 68,\n",
       " 70,\n",
       " 72,\n",
       " 74,\n",
       " 76,\n",
       " 78,\n",
       " 80,\n",
       " 82,\n",
       " 84,\n",
       " 86,\n",
       " 88,\n",
       " 90,\n",
       " 92,\n",
       " 94,\n",
       " 96,\n",
       " 98]"
      ]
     },
     "execution_count": 55,
     "metadata": {},
     "output_type": "execute_result"
    }
   ],
   "source": [
    "list1.sort()\n",
    "list1"
   ]
  },
  {
   "cell_type": "code",
   "execution_count": 56,
   "id": "19fc05d8",
   "metadata": {},
   "outputs": [
    {
     "data": {
      "text/plain": [
       "[98,\n",
       " 96,\n",
       " 94,\n",
       " 92,\n",
       " 90,\n",
       " 88,\n",
       " 86,\n",
       " 84,\n",
       " 82,\n",
       " 80,\n",
       " 78,\n",
       " 76,\n",
       " 74,\n",
       " 72,\n",
       " 70,\n",
       " 68,\n",
       " 66,\n",
       " 64,\n",
       " 62,\n",
       " 60,\n",
       " 58,\n",
       " 56,\n",
       " 54,\n",
       " 52,\n",
       " 50,\n",
       " 48,\n",
       " 46,\n",
       " 44,\n",
       " 42,\n",
       " 40,\n",
       " 38,\n",
       " 36,\n",
       " 34,\n",
       " 32,\n",
       " 30,\n",
       " 28,\n",
       " 26,\n",
       " 24,\n",
       " 22,\n",
       " 20,\n",
       " 18,\n",
       " 16,\n",
       " 14,\n",
       " 12,\n",
       " 10,\n",
       " 8,\n",
       " 6,\n",
       " 4,\n",
       " 2,\n",
       " 0]"
      ]
     },
     "execution_count": 56,
     "metadata": {},
     "output_type": "execute_result"
    }
   ],
   "source": [
    "list1.sort(reverse=True)\n",
    "list1"
   ]
  },
  {
   "cell_type": "code",
   "execution_count": 58,
   "id": "dd66f06d",
   "metadata": {},
   "outputs": [],
   "source": [
    "list1[44]=100"
   ]
  },
  {
   "cell_type": "code",
   "execution_count": 59,
   "id": "1dc38eaf",
   "metadata": {},
   "outputs": [
    {
     "data": {
      "text/plain": [
       "[98,\n",
       " 96,\n",
       " 94,\n",
       " 92,\n",
       " 90,\n",
       " 88,\n",
       " 86,\n",
       " 84,\n",
       " 82,\n",
       " 80,\n",
       " 78,\n",
       " 76,\n",
       " 74,\n",
       " 72,\n",
       " 70,\n",
       " 68,\n",
       " 66,\n",
       " 64,\n",
       " 62,\n",
       " 60,\n",
       " 58,\n",
       " 56,\n",
       " 54,\n",
       " 52,\n",
       " 50,\n",
       " 48,\n",
       " 46,\n",
       " 44,\n",
       " 42,\n",
       " 40,\n",
       " 38,\n",
       " 36,\n",
       " 34,\n",
       " 32,\n",
       " 30,\n",
       " 28,\n",
       " 26,\n",
       " 24,\n",
       " 22,\n",
       " 20,\n",
       " 18,\n",
       " 16,\n",
       " 14,\n",
       " 12,\n",
       " 100,\n",
       " 8,\n",
       " 6,\n",
       " 4,\n",
       " 2,\n",
       " 0]"
      ]
     },
     "execution_count": 59,
     "metadata": {},
     "output_type": "execute_result"
    }
   ],
   "source": [
    "list1"
   ]
  },
  {
   "cell_type": "code",
   "execution_count": 61,
   "id": "320345e3",
   "metadata": {},
   "outputs": [
    {
     "name": "stdout",
     "output_type": "stream",
     "text": [
      "9604\n",
      "9216\n",
      "8836\n",
      "8464\n",
      "8100\n",
      "7744\n",
      "7396\n",
      "7056\n",
      "6724\n",
      "6400\n",
      "6084\n",
      "5776\n",
      "5476\n",
      "5184\n",
      "4900\n",
      "4624\n",
      "4356\n",
      "4096\n",
      "3844\n",
      "3600\n",
      "3364\n",
      "3136\n",
      "2916\n",
      "2704\n",
      "2500\n",
      "2304\n",
      "2116\n",
      "1936\n",
      "1764\n",
      "1600\n",
      "1444\n",
      "1296\n",
      "1156\n",
      "1024\n",
      "900\n",
      "784\n",
      "676\n",
      "576\n",
      "484\n",
      "400\n",
      "324\n",
      "256\n",
      "196\n",
      "144\n",
      "10000\n",
      "64\n",
      "36\n",
      "16\n",
      "4\n",
      "0\n"
     ]
    }
   ],
   "source": [
    "for i in list1:\n",
    "    print(i**2)"
   ]
  },
  {
   "cell_type": "code",
   "execution_count": 62,
   "id": "be10b605",
   "metadata": {},
   "outputs": [],
   "source": [
    "dict1={'Parents':{'Names':['Naidu','Sujatha'],'Age':[57,50]},'Children':'Phani'}"
   ]
  },
  {
   "cell_type": "code",
   "execution_count": 63,
   "id": "4c01a42c",
   "metadata": {},
   "outputs": [
    {
     "data": {
      "text/plain": [
       "{'Parents': {'Names': ['Naidu', 'Sujatha'], 'Age': [57, 50]},\n",
       " 'Children': 'Phani'}"
      ]
     },
     "execution_count": 63,
     "metadata": {},
     "output_type": "execute_result"
    }
   ],
   "source": [
    "dict1"
   ]
  },
  {
   "cell_type": "code",
   "execution_count": 65,
   "id": "3c4c45e9",
   "metadata": {},
   "outputs": [
    {
     "data": {
      "text/plain": [
       "dict_keys(['Parents', 'Children'])"
      ]
     },
     "execution_count": 65,
     "metadata": {},
     "output_type": "execute_result"
    }
   ],
   "source": [
    "dict1.keys()"
   ]
  },
  {
   "cell_type": "code",
   "execution_count": 67,
   "id": "ea5212af",
   "metadata": {},
   "outputs": [],
   "source": [
    "del dict1['Children']"
   ]
  },
  {
   "cell_type": "code",
   "execution_count": 68,
   "id": "dd4b8670",
   "metadata": {},
   "outputs": [
    {
     "data": {
      "text/plain": [
       "{'Parents': {'Names': ['Naidu', 'Sujatha'], 'Age': [57, 50]}}"
      ]
     },
     "execution_count": 68,
     "metadata": {},
     "output_type": "execute_result"
    }
   ],
   "source": [
    "dict1"
   ]
  },
  {
   "cell_type": "code",
   "execution_count": 69,
   "id": "b4ef301b",
   "metadata": {},
   "outputs": [],
   "source": [
    "dict1['Child']='Phani'"
   ]
  },
  {
   "cell_type": "code",
   "execution_count": 70,
   "id": "8288a714",
   "metadata": {},
   "outputs": [
    {
     "data": {
      "text/plain": [
       "{'Parents': {'Names': ['Naidu', 'Sujatha'], 'Age': [57, 50]}, 'Child': 'Phani'}"
      ]
     },
     "execution_count": 70,
     "metadata": {},
     "output_type": "execute_result"
    }
   ],
   "source": [
    "dict1"
   ]
  },
  {
   "cell_type": "code",
   "execution_count": 71,
   "id": "3b4bfdf9",
   "metadata": {},
   "outputs": [],
   "source": [
    "str_A='Python Programming Language'"
   ]
  },
  {
   "cell_type": "code",
   "execution_count": 72,
   "id": "656d2446",
   "metadata": {},
   "outputs": [],
   "source": [
    "str_B='Best in the world'"
   ]
  },
  {
   "cell_type": "code",
   "execution_count": 76,
   "id": "961c80f2",
   "metadata": {},
   "outputs": [
    {
     "data": {
      "text/plain": [
       "10"
      ]
     },
     "execution_count": 76,
     "metadata": {},
     "output_type": "execute_result"
    }
   ],
   "source": [
    "str_A.find('gram')"
   ]
  },
  {
   "cell_type": "code",
   "execution_count": 87,
   "id": "8ee52c06",
   "metadata": {},
   "outputs": [
    {
     "data": {
      "text/plain": [
       "'gram'"
      ]
     },
     "execution_count": 87,
     "metadata": {},
     "output_type": "execute_result"
    }
   ],
   "source": [
    "str_A[str_A.find('gram'):14]"
   ]
  },
  {
   "cell_type": "code",
   "execution_count": 88,
   "id": "be919bed",
   "metadata": {},
   "outputs": [
    {
     "data": {
      "text/plain": [
       "'world'"
      ]
     },
     "execution_count": 88,
     "metadata": {},
     "output_type": "execute_result"
    }
   ],
   "source": [
    "str_B[str_B.find('world'):]"
   ]
  },
  {
   "cell_type": "code",
   "execution_count": 89,
   "id": "4b2ea79c",
   "metadata": {},
   "outputs": [
    {
     "data": {
      "text/plain": [
       "'PYTHON PROGRAMMING LANGUAGE'"
      ]
     },
     "execution_count": 89,
     "metadata": {},
     "output_type": "execute_result"
    }
   ],
   "source": [
    "str_A.upper()"
   ]
  },
  {
   "cell_type": "code",
   "execution_count": 90,
   "id": "685086a1",
   "metadata": {},
   "outputs": [
    {
     "data": {
      "text/plain": [
       "'BEST IN THE WORLD'"
      ]
     },
     "execution_count": 90,
     "metadata": {},
     "output_type": "execute_result"
    }
   ],
   "source": [
    "str_B.upper()"
   ]
  },
  {
   "cell_type": "code",
   "execution_count": 92,
   "id": "60b27d45",
   "metadata": {},
   "outputs": [
    {
     "data": {
      "text/plain": [
       "'Python Programming Language Best in the world'"
      ]
     },
     "execution_count": 92,
     "metadata": {},
     "output_type": "execute_result"
    }
   ],
   "source": [
    "str_A+' '+str_B"
   ]
  },
  {
   "cell_type": "code",
   "execution_count": 99,
   "id": "3c8d63cb",
   "metadata": {},
   "outputs": [],
   "source": [
    "list1=[1,3,4,5,6,7,8,9,11,13,15]"
   ]
  },
  {
   "cell_type": "code",
   "execution_count": 102,
   "id": "56f3a165",
   "metadata": {},
   "outputs": [
    {
     "data": {
      "text/plain": [
       "[8, 9, 11]"
      ]
     },
     "execution_count": 102,
     "metadata": {},
     "output_type": "execute_result"
    }
   ],
   "source": [
    "list1[-5:len(list1)-2]"
   ]
  },
  {
   "cell_type": "code",
   "execution_count": null,
   "id": "78bcc94e",
   "metadata": {},
   "outputs": [],
   "source": []
  }
 ],
 "metadata": {
  "kernelspec": {
   "display_name": "Python 3 (ipykernel)",
   "language": "python",
   "name": "python3"
  },
  "language_info": {
   "codemirror_mode": {
    "name": "ipython",
    "version": 3
   },
   "file_extension": ".py",
   "mimetype": "text/x-python",
   "name": "python",
   "nbconvert_exporter": "python",
   "pygments_lexer": "ipython3",
   "version": "3.10.9"
  }
 },
 "nbformat": 4,
 "nbformat_minor": 5
}
