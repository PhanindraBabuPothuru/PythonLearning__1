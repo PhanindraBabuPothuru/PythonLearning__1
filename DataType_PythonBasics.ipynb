{
 "cells": [
  {
   "cell_type": "markdown",
   "id": "ed219ba3",
   "metadata": {},
   "source": [
    "Strings\n",
    "\n",
    "Python Indexing will Start from 0\n",
    "\n",
    "whenever [] we are using we will be creating subset in original data\n",
    "\n",
    "\"\".join([,,]) - will combine me the string/concatenate the string"
   ]
  },
  {
   "cell_type": "code",
   "execution_count": 1,
   "id": "5747be24",
   "metadata": {},
   "outputs": [],
   "source": [
    "str1='Python'"
   ]
  },
  {
   "cell_type": "code",
   "execution_count": 2,
   "id": "f0890682",
   "metadata": {},
   "outputs": [
    {
     "data": {
      "text/plain": [
       "'Python'"
      ]
     },
     "execution_count": 2,
     "metadata": {},
     "output_type": "execute_result"
    }
   ],
   "source": [
    "str1"
   ]
  },
  {
   "cell_type": "markdown",
   "id": "ecd9204d",
   "metadata": {},
   "source": [
    "Name Error:\n",
    "1. Case Sensitivity\n",
    "2. Spelling\n",
    "3. Identify line of code where written and execute it first"
   ]
  },
  {
   "cell_type": "markdown",
   "id": "c9ceecfa",
   "metadata": {},
   "source": [
    "Double Quotes\n",
    "\n",
    "Esc Sequence will be used incase if we used ' and \" in a single sentence. \\ will be used to skip and make sure that it will be escaped\n",
    "\n",
    "EOL Error - expecting a closure at the end of the line - \"\"\" will be used if we are using multiple lines"
   ]
  },
  {
   "cell_type": "code",
   "execution_count": 3,
   "id": "7174ee16",
   "metadata": {},
   "outputs": [],
   "source": [
    "Str1=\"Python's Great\""
   ]
  },
  {
   "cell_type": "code",
   "execution_count": 4,
   "id": "f3989dce",
   "metadata": {},
   "outputs": [
    {
     "data": {
      "text/plain": [
       "\"Python's Great\""
      ]
     },
     "execution_count": 4,
     "metadata": {},
     "output_type": "execute_result"
    }
   ],
   "source": [
    "Str1"
   ]
  },
  {
   "cell_type": "code",
   "execution_count": 7,
   "id": "5e130b05",
   "metadata": {},
   "outputs": [],
   "source": [
    "str2='Python\\'s Great'"
   ]
  },
  {
   "cell_type": "code",
   "execution_count": 8,
   "id": "dbbd599e",
   "metadata": {},
   "outputs": [
    {
     "data": {
      "text/plain": [
       "\"Python's Great\""
      ]
     },
     "execution_count": 8,
     "metadata": {},
     "output_type": "execute_result"
    }
   ],
   "source": [
    "str2"
   ]
  },
  {
   "cell_type": "code",
   "execution_count": 10,
   "id": "eda80823",
   "metadata": {},
   "outputs": [
    {
     "name": "stdout",
     "output_type": "stream",
     "text": [
      "Python's \"Great\"\n"
     ]
    }
   ],
   "source": [
    "str3='Python\\'s \\\"Great\"'\n",
    "print(str3)"
   ]
  },
  {
   "cell_type": "code",
   "execution_count": 15,
   "id": "2f7651d3",
   "metadata": {},
   "outputs": [
    {
     "name": "stdout",
     "output_type": "stream",
     "text": [
      "Twinkle Twinkle little star\n",
      "How i wonder what you are\n"
     ]
    }
   ],
   "source": [
    "poem=\"\"\"Twinkle Twinkle little star\n",
    "How i wonder what you are\"\"\"\n",
    "print(poem)"
   ]
  },
  {
   "cell_type": "code",
   "execution_count": 16,
   "id": "39858995",
   "metadata": {},
   "outputs": [
    {
     "data": {
      "text/plain": [
       "'Python'"
      ]
     },
     "execution_count": 16,
     "metadata": {},
     "output_type": "execute_result"
    }
   ],
   "source": [
    "str1"
   ]
  },
  {
   "cell_type": "code",
   "execution_count": 18,
   "id": "3b1ae882",
   "metadata": {},
   "outputs": [
    {
     "data": {
      "text/plain": [
       "'Python'"
      ]
     },
     "execution_count": 18,
     "metadata": {},
     "output_type": "execute_result"
    }
   ],
   "source": [
    "str1.capitalize()"
   ]
  },
  {
   "cell_type": "code",
   "execution_count": 19,
   "id": "68aa95e0",
   "metadata": {},
   "outputs": [
    {
     "data": {
      "text/plain": [
       "'PYTHON'"
      ]
     },
     "execution_count": 19,
     "metadata": {},
     "output_type": "execute_result"
    }
   ],
   "source": [
    "str1.upper()"
   ]
  },
  {
   "cell_type": "code",
   "execution_count": 20,
   "id": "6e9bb168",
   "metadata": {},
   "outputs": [
    {
     "data": {
      "text/plain": [
       "True"
      ]
     },
     "execution_count": 20,
     "metadata": {},
     "output_type": "execute_result"
    }
   ],
   "source": [
    "str1.isalpha()"
   ]
  },
  {
   "cell_type": "code",
   "execution_count": 21,
   "id": "373a52e1",
   "metadata": {},
   "outputs": [
    {
     "data": {
      "text/plain": [
       "True"
      ]
     },
     "execution_count": 21,
     "metadata": {},
     "output_type": "execute_result"
    }
   ],
   "source": [
    "str1.isalnum()"
   ]
  },
  {
   "cell_type": "code",
   "execution_count": 22,
   "id": "001f69ca",
   "metadata": {},
   "outputs": [
    {
     "data": {
      "text/plain": [
       "False"
      ]
     },
     "execution_count": 22,
     "metadata": {},
     "output_type": "execute_result"
    }
   ],
   "source": [
    "str1.isdigit()"
   ]
  },
  {
   "cell_type": "code",
   "execution_count": 23,
   "id": "d27514ac",
   "metadata": {},
   "outputs": [
    {
     "name": "stdout",
     "output_type": "stream",
     "text": [
      "Help on bool object:\n",
      "\n",
      "class bool(int)\n",
      " |  bool(x) -> bool\n",
      " |  \n",
      " |  Returns True when the argument x is true, False otherwise.\n",
      " |  The builtins True and False are the only two instances of the class bool.\n",
      " |  The class bool is a subclass of the class int, and cannot be subclassed.\n",
      " |  \n",
      " |  Method resolution order:\n",
      " |      bool\n",
      " |      int\n",
      " |      object\n",
      " |  \n",
      " |  Methods defined here:\n",
      " |  \n",
      " |  __and__(self, value, /)\n",
      " |      Return self&value.\n",
      " |  \n",
      " |  __or__(self, value, /)\n",
      " |      Return self|value.\n",
      " |  \n",
      " |  __rand__(self, value, /)\n",
      " |      Return value&self.\n",
      " |  \n",
      " |  __repr__(self, /)\n",
      " |      Return repr(self).\n",
      " |  \n",
      " |  __ror__(self, value, /)\n",
      " |      Return value|self.\n",
      " |  \n",
      " |  __rxor__(self, value, /)\n",
      " |      Return value^self.\n",
      " |  \n",
      " |  __xor__(self, value, /)\n",
      " |      Return self^value.\n",
      " |  \n",
      " |  ----------------------------------------------------------------------\n",
      " |  Static methods defined here:\n",
      " |  \n",
      " |  __new__(*args, **kwargs) from builtins.type\n",
      " |      Create and return a new object.  See help(type) for accurate signature.\n",
      " |  \n",
      " |  ----------------------------------------------------------------------\n",
      " |  Methods inherited from int:\n",
      " |  \n",
      " |  __abs__(self, /)\n",
      " |      abs(self)\n",
      " |  \n",
      " |  __add__(self, value, /)\n",
      " |      Return self+value.\n",
      " |  \n",
      " |  __bool__(self, /)\n",
      " |      True if self else False\n",
      " |  \n",
      " |  __ceil__(...)\n",
      " |      Ceiling of an Integral returns itself.\n",
      " |  \n",
      " |  __divmod__(self, value, /)\n",
      " |      Return divmod(self, value).\n",
      " |  \n",
      " |  __eq__(self, value, /)\n",
      " |      Return self==value.\n",
      " |  \n",
      " |  __float__(self, /)\n",
      " |      float(self)\n",
      " |  \n",
      " |  __floor__(...)\n",
      " |      Flooring an Integral returns itself.\n",
      " |  \n",
      " |  __floordiv__(self, value, /)\n",
      " |      Return self//value.\n",
      " |  \n",
      " |  __format__(self, format_spec, /)\n",
      " |      Default object formatter.\n",
      " |  \n",
      " |  __ge__(self, value, /)\n",
      " |      Return self>=value.\n",
      " |  \n",
      " |  __getattribute__(self, name, /)\n",
      " |      Return getattr(self, name).\n",
      " |  \n",
      " |  __getnewargs__(self, /)\n",
      " |  \n",
      " |  __gt__(self, value, /)\n",
      " |      Return self>value.\n",
      " |  \n",
      " |  __hash__(self, /)\n",
      " |      Return hash(self).\n",
      " |  \n",
      " |  __index__(self, /)\n",
      " |      Return self converted to an integer, if self is suitable for use as an index into a list.\n",
      " |  \n",
      " |  __int__(self, /)\n",
      " |      int(self)\n",
      " |  \n",
      " |  __invert__(self, /)\n",
      " |      ~self\n",
      " |  \n",
      " |  __le__(self, value, /)\n",
      " |      Return self<=value.\n",
      " |  \n",
      " |  __lshift__(self, value, /)\n",
      " |      Return self<<value.\n",
      " |  \n",
      " |  __lt__(self, value, /)\n",
      " |      Return self<value.\n",
      " |  \n",
      " |  __mod__(self, value, /)\n",
      " |      Return self%value.\n",
      " |  \n",
      " |  __mul__(self, value, /)\n",
      " |      Return self*value.\n",
      " |  \n",
      " |  __ne__(self, value, /)\n",
      " |      Return self!=value.\n",
      " |  \n",
      " |  __neg__(self, /)\n",
      " |      -self\n",
      " |  \n",
      " |  __pos__(self, /)\n",
      " |      +self\n",
      " |  \n",
      " |  __pow__(self, value, mod=None, /)\n",
      " |      Return pow(self, value, mod).\n",
      " |  \n",
      " |  __radd__(self, value, /)\n",
      " |      Return value+self.\n",
      " |  \n",
      " |  __rdivmod__(self, value, /)\n",
      " |      Return divmod(value, self).\n",
      " |  \n",
      " |  __rfloordiv__(self, value, /)\n",
      " |      Return value//self.\n",
      " |  \n",
      " |  __rlshift__(self, value, /)\n",
      " |      Return value<<self.\n",
      " |  \n",
      " |  __rmod__(self, value, /)\n",
      " |      Return value%self.\n",
      " |  \n",
      " |  __rmul__(self, value, /)\n",
      " |      Return value*self.\n",
      " |  \n",
      " |  __round__(...)\n",
      " |      Rounding an Integral returns itself.\n",
      " |      \n",
      " |      Rounding with an ndigits argument also returns an integer.\n",
      " |  \n",
      " |  __rpow__(self, value, mod=None, /)\n",
      " |      Return pow(value, self, mod).\n",
      " |  \n",
      " |  __rrshift__(self, value, /)\n",
      " |      Return value>>self.\n",
      " |  \n",
      " |  __rshift__(self, value, /)\n",
      " |      Return self>>value.\n",
      " |  \n",
      " |  __rsub__(self, value, /)\n",
      " |      Return value-self.\n",
      " |  \n",
      " |  __rtruediv__(self, value, /)\n",
      " |      Return value/self.\n",
      " |  \n",
      " |  __sizeof__(self, /)\n",
      " |      Returns size in memory, in bytes.\n",
      " |  \n",
      " |  __sub__(self, value, /)\n",
      " |      Return self-value.\n",
      " |  \n",
      " |  __truediv__(self, value, /)\n",
      " |      Return self/value.\n",
      " |  \n",
      " |  __trunc__(...)\n",
      " |      Truncating an Integral returns itself.\n",
      " |  \n",
      " |  as_integer_ratio(self, /)\n",
      " |      Return integer ratio.\n",
      " |      \n",
      " |      Return a pair of integers, whose ratio is exactly equal to the original int\n",
      " |      and with a positive denominator.\n",
      " |      \n",
      " |      >>> (10).as_integer_ratio()\n",
      " |      (10, 1)\n",
      " |      >>> (-10).as_integer_ratio()\n",
      " |      (-10, 1)\n",
      " |      >>> (0).as_integer_ratio()\n",
      " |      (0, 1)\n",
      " |  \n",
      " |  bit_count(self, /)\n",
      " |      Number of ones in the binary representation of the absolute value of self.\n",
      " |      \n",
      " |      Also known as the population count.\n",
      " |      \n",
      " |      >>> bin(13)\n",
      " |      '0b1101'\n",
      " |      >>> (13).bit_count()\n",
      " |      3\n",
      " |  \n",
      " |  bit_length(self, /)\n",
      " |      Number of bits necessary to represent self in binary.\n",
      " |      \n",
      " |      >>> bin(37)\n",
      " |      '0b100101'\n",
      " |      >>> (37).bit_length()\n",
      " |      6\n",
      " |  \n",
      " |  conjugate(...)\n",
      " |      Returns self, the complex conjugate of any int.\n",
      " |  \n",
      " |  to_bytes(self, /, length, byteorder, *, signed=False)\n",
      " |      Return an array of bytes representing an integer.\n",
      " |      \n",
      " |      length\n",
      " |        Length of bytes object to use.  An OverflowError is raised if the\n",
      " |        integer is not representable with the given number of bytes.\n",
      " |      byteorder\n",
      " |        The byte order used to represent the integer.  If byteorder is 'big',\n",
      " |        the most significant byte is at the beginning of the byte array.  If\n",
      " |        byteorder is 'little', the most significant byte is at the end of the\n",
      " |        byte array.  To request the native byte order of the host system, use\n",
      " |        `sys.byteorder' as the byte order value.\n",
      " |      signed\n",
      " |        Determines whether two's complement is used to represent the integer.\n",
      " |        If signed is False and a negative integer is given, an OverflowError\n",
      " |        is raised.\n",
      " |  \n",
      " |  ----------------------------------------------------------------------\n",
      " |  Class methods inherited from int:\n",
      " |  \n",
      " |  from_bytes(bytes, byteorder, *, signed=False) from builtins.type\n",
      " |      Return the integer represented by the given array of bytes.\n",
      " |      \n",
      " |      bytes\n",
      " |        Holds the array of bytes to convert.  The argument must either\n",
      " |        support the buffer protocol or be an iterable object producing bytes.\n",
      " |        Bytes and bytearray are examples of built-in objects that support the\n",
      " |        buffer protocol.\n",
      " |      byteorder\n",
      " |        The byte order used to represent the integer.  If byteorder is 'big',\n",
      " |        the most significant byte is at the beginning of the byte array.  If\n",
      " |        byteorder is 'little', the most significant byte is at the end of the\n",
      " |        byte array.  To request the native byte order of the host system, use\n",
      " |        `sys.byteorder' as the byte order value.\n",
      " |      signed\n",
      " |        Indicates whether two's complement is used to represent the integer.\n",
      " |  \n",
      " |  ----------------------------------------------------------------------\n",
      " |  Data descriptors inherited from int:\n",
      " |  \n",
      " |  denominator\n",
      " |      the denominator of a rational number in lowest terms\n",
      " |  \n",
      " |  imag\n",
      " |      the imaginary part of a complex number\n",
      " |  \n",
      " |  numerator\n",
      " |      the numerator of a rational number in lowest terms\n",
      " |  \n",
      " |  real\n",
      " |      the real part of a complex number\n",
      "\n"
     ]
    }
   ],
   "source": [
    "help(str1.isdigit())"
   ]
  },
  {
   "cell_type": "code",
   "execution_count": 24,
   "id": "efab3548",
   "metadata": {},
   "outputs": [
    {
     "data": {
      "text/plain": [
       "'Twinkle twinkle little star\\nhow i wonder what you are'"
      ]
     },
     "execution_count": 24,
     "metadata": {},
     "output_type": "execute_result"
    }
   ],
   "source": [
    "poem.capitalize()"
   ]
  },
  {
   "cell_type": "code",
   "execution_count": 25,
   "id": "c47a1928",
   "metadata": {},
   "outputs": [
    {
     "data": {
      "text/plain": [
       "'TWINKLE TWINKLE LITTLE STAR\\nHOW I WONDER WHAT YOU ARE'"
      ]
     },
     "execution_count": 25,
     "metadata": {},
     "output_type": "execute_result"
    }
   ],
   "source": [
    "poem.upper()"
   ]
  },
  {
   "cell_type": "code",
   "execution_count": 28,
   "id": "63e043c2",
   "metadata": {},
   "outputs": [
    {
     "name": "stdout",
     "output_type": "stream",
     "text": [
      "0\n"
     ]
    }
   ],
   "source": [
    "str13='Python is great isnt it'\n",
    "str13=str13.upper()\n",
    "substr='i'\n",
    "print(str13.count(substr))"
   ]
  },
  {
   "cell_type": "code",
   "execution_count": 30,
   "id": "c4feb5e2",
   "metadata": {},
   "outputs": [
    {
     "data": {
      "text/plain": [
       "['Python', 'is', 'great']"
      ]
     },
     "execution_count": 30,
     "metadata": {},
     "output_type": "execute_result"
    }
   ],
   "source": [
    "str14='Python-is-great'\n",
    "str14.split('-')"
   ]
  },
  {
   "cell_type": "code",
   "execution_count": 34,
   "id": "682c719f",
   "metadata": {},
   "outputs": [
    {
     "data": {
      "text/plain": [
       "6"
      ]
     },
     "execution_count": 34,
     "metadata": {},
     "output_type": "execute_result"
    }
   ],
   "source": [
    "poem.lower().count('t')"
   ]
  },
  {
   "cell_type": "code",
   "execution_count": 35,
   "id": "49974856",
   "metadata": {},
   "outputs": [
    {
     "data": {
      "text/plain": [
       "'Python;Training'"
      ]
     },
     "execution_count": 35,
     "metadata": {},
     "output_type": "execute_result"
    }
   ],
   "source": [
    "\";\".join(['Python','Training'])"
   ]
  },
  {
   "cell_type": "code",
   "execution_count": 37,
   "id": "376d13b1",
   "metadata": {},
   "outputs": [
    {
     "name": "stdout",
     "output_type": "stream",
     "text": [
      "PythonTraining\n"
     ]
    }
   ],
   "source": [
    "print('Python'+'Training')"
   ]
  },
  {
   "cell_type": "code",
   "execution_count": 38,
   "id": "7e6dc1d8",
   "metadata": {},
   "outputs": [
    {
     "name": "stdout",
     "output_type": "stream",
     "text": [
      "Phenindre Bebu Pothuru\n"
     ]
    }
   ],
   "source": [
    "str15='Phanindra Babu Pothuru'\n",
    "print(str15.replace('a','e'))"
   ]
  },
  {
   "cell_type": "code",
   "execution_count": 39,
   "id": "bf648f84",
   "metadata": {},
   "outputs": [
    {
     "data": {
      "text/plain": [
       "'ha'"
      ]
     },
     "execution_count": 39,
     "metadata": {},
     "output_type": "execute_result"
    }
   ],
   "source": [
    "str15[1:3]"
   ]
  },
  {
   "cell_type": "code",
   "execution_count": 40,
   "id": "748995ff",
   "metadata": {},
   "outputs": [
    {
     "data": {
      "text/plain": [
       "'Phanindra Babu Pothuru'"
      ]
     },
     "execution_count": 40,
     "metadata": {},
     "output_type": "execute_result"
    }
   ],
   "source": [
    "str15[0:]"
   ]
  },
  {
   "cell_type": "code",
   "execution_count": 41,
   "id": "f965d79b",
   "metadata": {},
   "outputs": [
    {
     "data": {
      "text/plain": [
       "'han'"
      ]
     },
     "execution_count": 41,
     "metadata": {},
     "output_type": "execute_result"
    }
   ],
   "source": [
    "str15[1:4]"
   ]
  },
  {
   "cell_type": "code",
   "execution_count": 44,
   "id": "39859ea6",
   "metadata": {},
   "outputs": [
    {
     "data": {
      "text/plain": [
       "-1"
      ]
     },
     "execution_count": 44,
     "metadata": {},
     "output_type": "execute_result"
    }
   ],
   "source": [
    "str15.find('y')"
   ]
  },
  {
   "cell_type": "markdown",
   "id": "6e0d77e4",
   "metadata": {},
   "source": [
    "    List - []\n",
    "    \n",
    "    Mutable - value can be reeditable\n",
    "    \n",
    "    has more number of functions\n",
    "    \n",
    "    More Memory - Bit Slower in execution\n",
    "    \n",
    "    e.g. x=[1,1.2,'Pc']\n",
    "    \n",
    "    Tuple - ()\n",
    "    \n",
    "    Immutable - value cannot be reeditable\n",
    "    \n",
    "    Limited functions\n",
    "    \n",
    "    Less Memory - Faster in Execution\n",
    "    \n",
    "    Make sure no body is going to modify\n",
    "    \n",
    "    e.g. x=(1,1.2,'Pc')\n",
    "    \n",
    "    Dictionary -{}\n",
    "    \n",
    "    Key Value Pairs\n",
    "    \n",
    "    Mutable\n",
    "    "
   ]
  },
  {
   "cell_type": "code",
   "execution_count": 46,
   "id": "73dbfff1",
   "metadata": {},
   "outputs": [
    {
     "name": "stdout",
     "output_type": "stream",
     "text": [
      "[1, 1.2, 'string', True]\n"
     ]
    }
   ],
   "source": [
    "x=[1,2,3,4]\n",
    "list1=[1,1.2,'string',True]\n",
    "print(list1)"
   ]
  },
  {
   "cell_type": "code",
   "execution_count": 48,
   "id": "97f16239",
   "metadata": {},
   "outputs": [
    {
     "name": "stdout",
     "output_type": "stream",
     "text": [
      "(1, 1.2, 'string', True)\n"
     ]
    }
   ],
   "source": [
    "tuple1=(1,1.2,'string',True)\n",
    "print(tuple1)"
   ]
  },
  {
   "cell_type": "code",
   "execution_count": 49,
   "id": "56234fe1",
   "metadata": {},
   "outputs": [],
   "source": [
    "list2=[1,1.2,5,200,'string',True]"
   ]
  },
  {
   "cell_type": "code",
   "execution_count": 50,
   "id": "73f17148",
   "metadata": {},
   "outputs": [],
   "source": [
    "list2.append([10,20]) # adds the value to the last one"
   ]
  },
  {
   "cell_type": "code",
   "execution_count": 51,
   "id": "42aa6566",
   "metadata": {},
   "outputs": [
    {
     "name": "stdout",
     "output_type": "stream",
     "text": [
      "[1, 1.2, 5, 200, 'string', True, [10, 20]]\n"
     ]
    }
   ],
   "source": [
    "print(list2)"
   ]
  },
  {
   "cell_type": "code",
   "execution_count": 54,
   "id": "f2c0361d",
   "metadata": {},
   "outputs": [
    {
     "data": {
      "text/plain": [
       "[10, 20]"
      ]
     },
     "execution_count": 54,
     "metadata": {},
     "output_type": "execute_result"
    }
   ],
   "source": [
    "list2[6]"
   ]
  },
  {
   "cell_type": "code",
   "execution_count": 56,
   "id": "fdd014cc",
   "metadata": {},
   "outputs": [
    {
     "data": {
      "text/plain": [
       "20"
      ]
     },
     "execution_count": 56,
     "metadata": {},
     "output_type": "execute_result"
    }
   ],
   "source": [
    "list2[6][1]"
   ]
  },
  {
   "cell_type": "code",
   "execution_count": 57,
   "id": "5fa02768",
   "metadata": {},
   "outputs": [],
   "source": [
    "list2.insert(2,'Hello') #Inserts to a specified position and takes 2 parameters"
   ]
  },
  {
   "cell_type": "code",
   "execution_count": 58,
   "id": "4bcd7b5c",
   "metadata": {},
   "outputs": [
    {
     "name": "stdout",
     "output_type": "stream",
     "text": [
      "[1, 1.2, 'Hello', 5, 200, 'string', True, [10, 20]]\n"
     ]
    }
   ],
   "source": [
    "print(list2)"
   ]
  },
  {
   "cell_type": "code",
   "execution_count": 59,
   "id": "7fec76dd",
   "metadata": {},
   "outputs": [
    {
     "data": {
      "text/plain": [
       "[10, 20]"
      ]
     },
     "execution_count": 59,
     "metadata": {},
     "output_type": "execute_result"
    }
   ],
   "source": [
    "list2.pop() #Removes last value in list"
   ]
  },
  {
   "cell_type": "code",
   "execution_count": 60,
   "id": "e3c28091",
   "metadata": {},
   "outputs": [
    {
     "name": "stdout",
     "output_type": "stream",
     "text": [
      "[1, 1.2, 'Hello', 5, 200, 'string', True]\n"
     ]
    }
   ],
   "source": [
    "print(list2)"
   ]
  },
  {
   "cell_type": "code",
   "execution_count": 61,
   "id": "89fda876",
   "metadata": {},
   "outputs": [
    {
     "data": {
      "text/plain": [
       "1.2"
      ]
     },
     "execution_count": 61,
     "metadata": {},
     "output_type": "execute_result"
    }
   ],
   "source": [
    "list2.pop(1) #index value data will be removed"
   ]
  },
  {
   "cell_type": "code",
   "execution_count": 62,
   "id": "b8f47b75",
   "metadata": {},
   "outputs": [
    {
     "data": {
      "text/plain": [
       "[1, 'Hello', 5, 200, 'string', True]"
      ]
     },
     "execution_count": 62,
     "metadata": {},
     "output_type": "execute_result"
    }
   ],
   "source": [
    "list2"
   ]
  },
  {
   "cell_type": "code",
   "execution_count": 63,
   "id": "4e78959f",
   "metadata": {},
   "outputs": [],
   "source": [
    "list2.extend([10,20,30]) # we can add any number of arguements and it will add as a individual entity"
   ]
  },
  {
   "cell_type": "code",
   "execution_count": 64,
   "id": "acae9495",
   "metadata": {},
   "outputs": [
    {
     "name": "stdout",
     "output_type": "stream",
     "text": [
      "[1, 'Hello', 5, 200, 'string', True, 10, 20, 30]\n"
     ]
    }
   ],
   "source": [
    "print(list2)"
   ]
  },
  {
   "cell_type": "code",
   "execution_count": 65,
   "id": "b3bf811d",
   "metadata": {},
   "outputs": [],
   "source": [
    "list2.reverse() #Entire list will be reversed"
   ]
  },
  {
   "cell_type": "code",
   "execution_count": 66,
   "id": "4cdc80ee",
   "metadata": {},
   "outputs": [
    {
     "data": {
      "text/plain": [
       "[30, 20, 10, True, 'string', 200, 5, 'Hello', 1]"
      ]
     },
     "execution_count": 66,
     "metadata": {},
     "output_type": "execute_result"
    }
   ],
   "source": [
    "list2"
   ]
  },
  {
   "cell_type": "code",
   "execution_count": 68,
   "id": "f0283d95",
   "metadata": {},
   "outputs": [],
   "source": [
    "list3=[1,3,45,3,5,6,7,19,8,7]\n",
    "list3.sort(reverse=True) # will sort the data in descending order"
   ]
  },
  {
   "cell_type": "code",
   "execution_count": 69,
   "id": "285fa170",
   "metadata": {},
   "outputs": [
    {
     "data": {
      "text/plain": [
       "[45, 19, 8, 7, 7, 6, 5, 3, 3, 1]"
      ]
     },
     "execution_count": 69,
     "metadata": {},
     "output_type": "execute_result"
    }
   ],
   "source": [
    "list3"
   ]
  },
  {
   "cell_type": "code",
   "execution_count": 70,
   "id": "c6fc1090",
   "metadata": {},
   "outputs": [],
   "source": [
    "list3.sort() # Reverse=false and null will be sorted in ascending order"
   ]
  },
  {
   "cell_type": "code",
   "execution_count": 71,
   "id": "467cbd04",
   "metadata": {},
   "outputs": [
    {
     "data": {
      "text/plain": [
       "[1, 3, 3, 5, 6, 7, 7, 8, 19, 45]"
      ]
     },
     "execution_count": 71,
     "metadata": {},
     "output_type": "execute_result"
    }
   ],
   "source": [
    "list3"
   ]
  },
  {
   "cell_type": "code",
   "execution_count": 72,
   "id": "b232cb8c",
   "metadata": {},
   "outputs": [
    {
     "data": {
      "text/plain": [
       "[]"
      ]
     },
     "execution_count": 72,
     "metadata": {},
     "output_type": "execute_result"
    }
   ],
   "source": [
    "list3.clear()\n",
    "list3"
   ]
  },
  {
   "cell_type": "code",
   "execution_count": 73,
   "id": "dad94ac7",
   "metadata": {},
   "outputs": [
    {
     "data": {
      "text/plain": [
       "1"
      ]
     },
     "execution_count": 73,
     "metadata": {},
     "output_type": "execute_result"
    }
   ],
   "source": [
    "list2.index(20) # To get the index of value we will use function called index"
   ]
  },
  {
   "cell_type": "code",
   "execution_count": 74,
   "id": "492095fa",
   "metadata": {},
   "outputs": [],
   "source": [
    "list2.remove(20)"
   ]
  },
  {
   "cell_type": "code",
   "execution_count": 75,
   "id": "985fc8a6",
   "metadata": {},
   "outputs": [
    {
     "data": {
      "text/plain": [
       "[30, 10, True, 'string', 200, 5, 'Hello', 1]"
      ]
     },
     "execution_count": 75,
     "metadata": {},
     "output_type": "execute_result"
    }
   ],
   "source": [
    "list2"
   ]
  },
  {
   "cell_type": "code",
   "execution_count": null,
   "id": "4b458a6b",
   "metadata": {},
   "outputs": [],
   "source": []
  },
  {
   "cell_type": "code",
   "execution_count": 78,
   "id": "ab27133f",
   "metadata": {},
   "outputs": [
    {
     "data": {
      "text/plain": [
       "{'key1': 10, 'key2': 20}"
      ]
     },
     "execution_count": 78,
     "metadata": {},
     "output_type": "execute_result"
    }
   ],
   "source": [
    "dict1={'key1':10,'key2':20}\n",
    "dict1"
   ]
  },
  {
   "cell_type": "code",
   "execution_count": 79,
   "id": "cb2ea97b",
   "metadata": {},
   "outputs": [],
   "source": [
    "dict1['key3']=10"
   ]
  },
  {
   "cell_type": "code",
   "execution_count": 80,
   "id": "17b66e2b",
   "metadata": {},
   "outputs": [
    {
     "data": {
      "text/plain": [
       "{'key1': 10, 'key2': 20, 'key3': 10}"
      ]
     },
     "execution_count": 80,
     "metadata": {},
     "output_type": "execute_result"
    }
   ],
   "source": [
    "dict1"
   ]
  },
  {
   "cell_type": "code",
   "execution_count": 81,
   "id": "4717d90c",
   "metadata": {},
   "outputs": [],
   "source": [
    "dict1['key2']=30"
   ]
  },
  {
   "cell_type": "code",
   "execution_count": 82,
   "id": "50bbcd12",
   "metadata": {},
   "outputs": [
    {
     "data": {
      "text/plain": [
       "{'key1': 10, 'key2': 30, 'key3': 10}"
      ]
     },
     "execution_count": 82,
     "metadata": {},
     "output_type": "execute_result"
    }
   ],
   "source": [
    "dict1"
   ]
  },
  {
   "cell_type": "code",
   "execution_count": 83,
   "id": "ef680f46",
   "metadata": {},
   "outputs": [],
   "source": [
    "del(dict1['key3'])"
   ]
  },
  {
   "cell_type": "code",
   "execution_count": 84,
   "id": "d0ac2beb",
   "metadata": {},
   "outputs": [
    {
     "data": {
      "text/plain": [
       "{'key1': 10, 'key2': 30}"
      ]
     },
     "execution_count": 84,
     "metadata": {},
     "output_type": "execute_result"
    }
   ],
   "source": [
    "dict1"
   ]
  },
  {
   "cell_type": "code",
   "execution_count": 85,
   "id": "669d6c86",
   "metadata": {},
   "outputs": [],
   "source": [
    "dict1['key3']=[10,20]"
   ]
  },
  {
   "cell_type": "code",
   "execution_count": 86,
   "id": "c0e4478f",
   "metadata": {},
   "outputs": [
    {
     "data": {
      "text/plain": [
       "{'key1': 10, 'key2': 30, 'key3': [10, 20]}"
      ]
     },
     "execution_count": 86,
     "metadata": {},
     "output_type": "execute_result"
    }
   ],
   "source": [
    "dict1"
   ]
  },
  {
   "cell_type": "code",
   "execution_count": 87,
   "id": "c2693444",
   "metadata": {},
   "outputs": [
    {
     "data": {
      "text/plain": [
       "dict_keys(['key1', 'key2', 'key3'])"
      ]
     },
     "execution_count": 87,
     "metadata": {},
     "output_type": "execute_result"
    }
   ],
   "source": [
    "dict1.keys()"
   ]
  },
  {
   "cell_type": "code",
   "execution_count": 88,
   "id": "21d3c8d2",
   "metadata": {},
   "outputs": [
    {
     "data": {
      "text/plain": [
       "[10, 20]"
      ]
     },
     "execution_count": 88,
     "metadata": {},
     "output_type": "execute_result"
    }
   ],
   "source": [
    "dict1['key3']"
   ]
  },
  {
   "cell_type": "code",
   "execution_count": 89,
   "id": "7a935d64",
   "metadata": {},
   "outputs": [
    {
     "data": {
      "text/plain": [
       "10"
      ]
     },
     "execution_count": 89,
     "metadata": {},
     "output_type": "execute_result"
    }
   ],
   "source": [
    "dict1['key3'][0]"
   ]
  },
  {
   "cell_type": "code",
   "execution_count": 90,
   "id": "f87e58ff",
   "metadata": {},
   "outputs": [
    {
     "data": {
      "text/plain": [
       "3"
      ]
     },
     "execution_count": 90,
     "metadata": {},
     "output_type": "execute_result"
    }
   ],
   "source": [
    "len(dict1)"
   ]
  },
  {
   "cell_type": "markdown",
   "id": "681d5466",
   "metadata": {},
   "source": [
    "Sets\n",
    "\n",
    "Unordered in nature - cannot gurantee on order\n",
    "\n",
    "Doesn't allow Duplicates"
   ]
  },
  {
   "cell_type": "code",
   "execution_count": 91,
   "id": "4b54594c",
   "metadata": {},
   "outputs": [],
   "source": [
    "set1={1,2,3,4,'a','b',1,2}"
   ]
  },
  {
   "cell_type": "code",
   "execution_count": 92,
   "id": "569cfcb1",
   "metadata": {},
   "outputs": [
    {
     "data": {
      "text/plain": [
       "{1, 2, 3, 4, 'a', 'b'}"
      ]
     },
     "execution_count": 92,
     "metadata": {},
     "output_type": "execute_result"
    }
   ],
   "source": [
    "set1"
   ]
  },
  {
   "cell_type": "code",
   "execution_count": 97,
   "id": "7df7b163",
   "metadata": {},
   "outputs": [
    {
     "name": "stdout",
     "output_type": "stream",
     "text": [
      "{1, 2, 3, 4, 'b', 'a'}\n"
     ]
    }
   ],
   "source": [
    "print(set1)"
   ]
  },
  {
   "cell_type": "code",
   "execution_count": null,
   "id": "82f039d5",
   "metadata": {},
   "outputs": [],
   "source": []
  }
 ],
 "metadata": {
  "kernelspec": {
   "display_name": "Python 3 (ipykernel)",
   "language": "python",
   "name": "python3"
  },
  "language_info": {
   "codemirror_mode": {
    "name": "ipython",
    "version": 3
   },
   "file_extension": ".py",
   "mimetype": "text/x-python",
   "name": "python",
   "nbconvert_exporter": "python",
   "pygments_lexer": "ipython3",
   "version": "3.10.9"
  }
 },
 "nbformat": 4,
 "nbformat_minor": 5
}
