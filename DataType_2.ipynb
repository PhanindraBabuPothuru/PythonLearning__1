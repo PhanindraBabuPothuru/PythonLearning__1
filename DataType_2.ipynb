{
 "cells": [
  {
   "cell_type": "code",
   "execution_count": 2,
   "id": "412351cb",
   "metadata": {},
   "outputs": [
    {
     "data": {
      "text/plain": [
       "{'a', 'b', 'c', 'd'}"
      ]
     },
     "execution_count": 2,
     "metadata": {},
     "output_type": "execute_result"
    }
   ],
   "source": [
    "set1={'a','b','c','d'}\n",
    "set1"
   ]
  },
  {
   "cell_type": "code",
   "execution_count": 3,
   "id": "0e547e93",
   "metadata": {},
   "outputs": [],
   "source": [
    "set1.add('e')"
   ]
  },
  {
   "cell_type": "code",
   "execution_count": 4,
   "id": "ea3b90ba",
   "metadata": {},
   "outputs": [
    {
     "data": {
      "text/plain": [
       "{'a', 'b', 'c', 'd', 'e'}"
      ]
     },
     "execution_count": 4,
     "metadata": {},
     "output_type": "execute_result"
    }
   ],
   "source": [
    "set1"
   ]
  },
  {
   "cell_type": "code",
   "execution_count": 5,
   "id": "4ced89f7",
   "metadata": {},
   "outputs": [],
   "source": [
    "set1.remove('d')"
   ]
  },
  {
   "cell_type": "code",
   "execution_count": 6,
   "id": "d84ed60d",
   "metadata": {},
   "outputs": [
    {
     "name": "stdout",
     "output_type": "stream",
     "text": [
      "{'a', 'c', 'b', 'e'}\n"
     ]
    }
   ],
   "source": [
    "print(set1)"
   ]
  },
  {
   "cell_type": "code",
   "execution_count": 7,
   "id": "5f4063a7",
   "metadata": {},
   "outputs": [
    {
     "data": {
      "text/plain": [
       "{'c', 'd', 'e', 'f'}"
      ]
     },
     "execution_count": 7,
     "metadata": {},
     "output_type": "execute_result"
    }
   ],
   "source": [
    "set2={'c','d','e','f'}\n",
    "set2"
   ]
  },
  {
   "cell_type": "code",
   "execution_count": 8,
   "id": "8c660fba",
   "metadata": {},
   "outputs": [
    {
     "data": {
      "text/plain": [
       "{'a', 'b', 'c', 'd', 'e', 'f'}"
      ]
     },
     "execution_count": 8,
     "metadata": {},
     "output_type": "execute_result"
    }
   ],
   "source": [
    "set1.union(set2)"
   ]
  },
  {
   "cell_type": "code",
   "execution_count": 9,
   "id": "5491ab23",
   "metadata": {},
   "outputs": [
    {
     "data": {
      "text/plain": [
       "{'c', 'e'}"
      ]
     },
     "execution_count": 9,
     "metadata": {},
     "output_type": "execute_result"
    }
   ],
   "source": [
    "set2.intersection(set1)"
   ]
  },
  {
   "cell_type": "code",
   "execution_count": 10,
   "id": "83d87933",
   "metadata": {},
   "outputs": [
    {
     "data": {
      "text/plain": [
       "{'a', 'b'}"
      ]
     },
     "execution_count": 10,
     "metadata": {},
     "output_type": "execute_result"
    }
   ],
   "source": [
    "set1.difference(set2) #Will be inverse of intersection, what values not available will be returned"
   ]
  },
  {
   "cell_type": "code",
   "execution_count": 11,
   "id": "85e155b8",
   "metadata": {},
   "outputs": [
    {
     "data": {
      "text/plain": [
       "{'d', 'f'}"
      ]
     },
     "execution_count": 11,
     "metadata": {},
     "output_type": "execute_result"
    }
   ],
   "source": [
    "set2.difference(set1)"
   ]
  },
  {
   "cell_type": "code",
   "execution_count": 12,
   "id": "4e18610f",
   "metadata": {},
   "outputs": [
    {
     "data": {
      "text/plain": [
       "{'a', 'b', 'd', 'f'}"
      ]
     },
     "execution_count": 12,
     "metadata": {},
     "output_type": "execute_result"
    }
   ],
   "source": [
    "set1.symmetric_difference(set2) # Whatever not available in both the sets"
   ]
  },
  {
   "cell_type": "code",
   "execution_count": 13,
   "id": "a07d5839",
   "metadata": {},
   "outputs": [
    {
     "data": {
      "text/plain": [
       "{'a', 'b', 'd', 'f'}"
      ]
     },
     "execution_count": 13,
     "metadata": {},
     "output_type": "execute_result"
    }
   ],
   "source": [
    "set2.symmetric_difference(set1)"
   ]
  },
  {
   "cell_type": "code",
   "execution_count": 14,
   "id": "c093d69b",
   "metadata": {},
   "outputs": [],
   "source": [
    "set1.symmetric_difference_update(set2)#Update the result to the initial set which we have provided"
   ]
  },
  {
   "cell_type": "code",
   "execution_count": 15,
   "id": "21cb34d3",
   "metadata": {},
   "outputs": [
    {
     "data": {
      "text/plain": [
       "{'a', 'b', 'd', 'f'}"
      ]
     },
     "execution_count": 15,
     "metadata": {},
     "output_type": "execute_result"
    }
   ],
   "source": [
    "set1"
   ]
  },
  {
   "cell_type": "markdown",
   "id": "a01b3641",
   "metadata": {},
   "source": [
    "Set Joins"
   ]
  },
  {
   "cell_type": "code",
   "execution_count": 16,
   "id": "55f983a3",
   "metadata": {},
   "outputs": [
    {
     "data": {
      "text/plain": [
       "{'a', 'b', 'd', 'f'}"
      ]
     },
     "execution_count": 16,
     "metadata": {},
     "output_type": "execute_result"
    }
   ],
   "source": [
    "set1"
   ]
  },
  {
   "cell_type": "code",
   "execution_count": 24,
   "id": "faaf30b0",
   "metadata": {},
   "outputs": [
    {
     "data": {
      "text/plain": [
       "{'c', 'd', 'e', 'f'}"
      ]
     },
     "execution_count": 24,
     "metadata": {},
     "output_type": "execute_result"
    }
   ],
   "source": [
    "set2"
   ]
  },
  {
   "cell_type": "code",
   "execution_count": 17,
   "id": "7a29dd8f",
   "metadata": {},
   "outputs": [],
   "source": [
    "set1.update('d')"
   ]
  },
  {
   "cell_type": "code",
   "execution_count": 18,
   "id": "2cdff0e5",
   "metadata": {},
   "outputs": [
    {
     "data": {
      "text/plain": [
       "{'a', 'b', 'd', 'f'}"
      ]
     },
     "execution_count": 18,
     "metadata": {},
     "output_type": "execute_result"
    }
   ],
   "source": [
    "set1"
   ]
  },
  {
   "cell_type": "code",
   "execution_count": 19,
   "id": "30b2d32c",
   "metadata": {},
   "outputs": [],
   "source": [
    "set1.update('e')"
   ]
  },
  {
   "cell_type": "code",
   "execution_count": 20,
   "id": "c742b7e3",
   "metadata": {},
   "outputs": [
    {
     "data": {
      "text/plain": [
       "{'a', 'b', 'd', 'e', 'f'}"
      ]
     },
     "execution_count": 20,
     "metadata": {},
     "output_type": "execute_result"
    }
   ],
   "source": [
    "set1"
   ]
  },
  {
   "cell_type": "code",
   "execution_count": 21,
   "id": "3afefad2",
   "metadata": {},
   "outputs": [],
   "source": [
    "set1.update({'g','h','e'}) # Update and add the values as new entities"
   ]
  },
  {
   "cell_type": "code",
   "execution_count": 22,
   "id": "085e0d08",
   "metadata": {},
   "outputs": [
    {
     "data": {
      "text/plain": [
       "{'a', 'b', 'd', 'e', 'f', 'g', 'h'}"
      ]
     },
     "execution_count": 22,
     "metadata": {},
     "output_type": "execute_result"
    }
   ],
   "source": [
    "set1"
   ]
  },
  {
   "cell_type": "code",
   "execution_count": 23,
   "id": "d515bbbc",
   "metadata": {},
   "outputs": [
    {
     "data": {
      "text/plain": [
       "{'a', 'b', 'c', 'd', 'e', 'f', 'g', 'h'}"
      ]
     },
     "execution_count": 23,
     "metadata": {},
     "output_type": "execute_result"
    }
   ],
   "source": [
    "set1 | set2 # Combines both the sets"
   ]
  },
  {
   "cell_type": "markdown",
   "id": "21a9ed20",
   "metadata": {},
   "source": [
    "Slicing"
   ]
  },
  {
   "cell_type": "code",
   "execution_count": 25,
   "id": "26b68c00",
   "metadata": {},
   "outputs": [],
   "source": [
    "str_Input='Intellipaat Python Training'"
   ]
  },
  {
   "cell_type": "code",
   "execution_count": 26,
   "id": "ab5b386e",
   "metadata": {},
   "outputs": [
    {
     "name": "stdout",
     "output_type": "stream",
     "text": [
      "Intellipaat \n"
     ]
    }
   ],
   "source": [
    "print(str_Input[0:12]) # Starting to 11 th value of the string"
   ]
  },
  {
   "cell_type": "code",
   "execution_count": 27,
   "id": "304b7329",
   "metadata": {},
   "outputs": [
    {
     "name": "stdout",
     "output_type": "stream",
     "text": [
      "elpa \n"
     ]
    }
   ],
   "source": [
    "print(str_Input[3:13:2])#Starting point,ending point and words will be seperated by 2"
   ]
  },
  {
   "cell_type": "code",
   "execution_count": 28,
   "id": "cd0326e0",
   "metadata": {},
   "outputs": [
    {
     "name": "stdout",
     "output_type": "stream",
     "text": [
      "gniniarT nohtyP taapilletnI\n"
     ]
    }
   ],
   "source": [
    "print(str_Input[::-1])#Reverse of the string passed"
   ]
  },
  {
   "cell_type": "code",
   "execution_count": 29,
   "id": "b208a3f0",
   "metadata": {},
   "outputs": [
    {
     "name": "stdout",
     "output_type": "stream",
     "text": [
      "Python Training\n"
     ]
    }
   ],
   "source": [
    "print(str_Input[12:])#starts to print value from 12th"
   ]
  },
  {
   "cell_type": "code",
   "execution_count": 30,
   "id": "153b1940",
   "metadata": {},
   "outputs": [
    {
     "name": "stdout",
     "output_type": "stream",
     "text": [
      "Intellipaat \n"
     ]
    }
   ],
   "source": [
    "print(str_Input[:12])#Prints the first 12 chars"
   ]
  },
  {
   "cell_type": "code",
   "execution_count": 31,
   "id": "a2beaebe",
   "metadata": {},
   "outputs": [
    {
     "name": "stdout",
     "output_type": "stream",
     "text": [
      "ItliatPto riig\n"
     ]
    }
   ],
   "source": [
    "print(str_Input[::2])#prints every alternative character"
   ]
  },
  {
   "cell_type": "markdown",
   "id": "9886295e",
   "metadata": {},
   "source": [
    "List Slicing"
   ]
  },
  {
   "cell_type": "code",
   "execution_count": 32,
   "id": "631a5100",
   "metadata": {},
   "outputs": [],
   "source": [
    "lst=[10,20,30,40,50,60,70]"
   ]
  },
  {
   "cell_type": "code",
   "execution_count": 33,
   "id": "67f6e30a",
   "metadata": {},
   "outputs": [
    {
     "data": {
      "text/plain": [
       "[10, 20, 30]"
      ]
     },
     "execution_count": 33,
     "metadata": {},
     "output_type": "execute_result"
    }
   ],
   "source": [
    "lst[0:3]"
   ]
  },
  {
   "cell_type": "code",
   "execution_count": 35,
   "id": "16365a46",
   "metadata": {},
   "outputs": [
    {
     "data": {
      "text/plain": [
       "[10, 30]"
      ]
     },
     "execution_count": 35,
     "metadata": {},
     "output_type": "execute_result"
    }
   ],
   "source": [
    "lst[0:3:2]"
   ]
  },
  {
   "cell_type": "code",
   "execution_count": 36,
   "id": "6e21c8b0",
   "metadata": {},
   "outputs": [
    {
     "data": {
      "text/plain": [
       "[70, 60, 50, 40, 30, 20, 10]"
      ]
     },
     "execution_count": 36,
     "metadata": {},
     "output_type": "execute_result"
    }
   ],
   "source": [
    "lst[::-1]"
   ]
  },
  {
   "cell_type": "code",
   "execution_count": 37,
   "id": "e5ba212e",
   "metadata": {},
   "outputs": [
    {
     "data": {
      "text/plain": [
       "[50, 40, 30]"
      ]
     },
     "execution_count": 37,
     "metadata": {},
     "output_type": "execute_result"
    }
   ],
   "source": [
    "lst[4:1:-1]"
   ]
  },
  {
   "cell_type": "code",
   "execution_count": 38,
   "id": "00a5743b",
   "metadata": {},
   "outputs": [
    {
     "data": {
      "text/plain": [
       "[70, 40, 10]"
      ]
     },
     "execution_count": 38,
     "metadata": {},
     "output_type": "execute_result"
    }
   ],
   "source": [
    "lst[::-3]"
   ]
  },
  {
   "cell_type": "code",
   "execution_count": null,
   "id": "91264885",
   "metadata": {},
   "outputs": [],
   "source": []
  }
 ],
 "metadata": {
  "kernelspec": {
   "display_name": "Python 3 (ipykernel)",
   "language": "python",
   "name": "python3"
  },
  "language_info": {
   "codemirror_mode": {
    "name": "ipython",
    "version": 3
   },
   "file_extension": ".py",
   "mimetype": "text/x-python",
   "name": "python",
   "nbconvert_exporter": "python",
   "pygments_lexer": "ipython3",
   "version": "3.10.9"
  }
 },
 "nbformat": 4,
 "nbformat_minor": 5
}
